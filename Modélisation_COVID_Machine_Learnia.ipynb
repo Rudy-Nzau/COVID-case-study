{
  "nbformat": 4,
  "nbformat_minor": 0,
  "metadata": {
    "colab": {
      "provenance": [],
      "authorship_tag": "ABX9TyO6OuAqNTQJDRuY6favn+rC",
      "include_colab_link": true
    },
    "kernelspec": {
      "name": "python3",
      "display_name": "Python 3"
    },
    "language_info": {
      "name": "python"
    }
  },
  "cells": [
    {
      "cell_type": "markdown",
      "metadata": {
        "id": "view-in-github",
        "colab_type": "text"
      },
      "source": [
        "<a href=\"https://colab.research.google.com/github/Rudy-Nzau/COVID-case-study/blob/main/Mod%C3%A9lisation_COVID_Machine_Learnia.ipynb\" target=\"_parent\"><img src=\"https://colab.research.google.com/assets/colab-badge.svg\" alt=\"Open In Colab\"/></a>"
      ]
    },
    {
      "cell_type": "markdown",
      "metadata": {
        "id": "vhY0WzkX9M1g"
      },
      "source": [
        "# **PRE-PROCESSING**"
      ]
    },
    {
      "cell_type": "code",
      "execution_count": null,
      "metadata": {
        "id": "r5Sjx1cC9TeH"
      },
      "outputs": [],
      "source": [
        "import numpy as np\n",
        "import pandas as pd\n",
        "import matplotlib.pyplot as plt\n",
        "import seaborn as sns"
      ]
    },
    {
      "cell_type": "code",
      "execution_count": null,
      "metadata": {
        "id": "fV_aP-zf9hqC"
      },
      "outputs": [],
      "source": [
        "pd.set_option('display.max_row', 111)\n",
        "pd.set_option('display.max_column', 111)"
      ]
    },
    {
      "cell_type": "code",
      "execution_count": null,
      "metadata": {
        "id": "8sTSC8XW9nXz"
      },
      "outputs": [],
      "source": [
        "url = 'https://raw.githubusercontent.com/MachineLearnia/Python-Machine-Learning/master/Dataset/dataset.csv'\n",
        "data = pd.read_csv(url, index_col=0, encoding = \"ISO-8859-1\")"
      ]
    },
    {
      "cell_type": "code",
      "execution_count": null,
      "metadata": {
        "id": "ZSq9B8nW9sGR"
      },
      "outputs": [],
      "source": [
        "data.reset_index(level=0, inplace=True)"
      ]
    },
    {
      "cell_type": "code",
      "execution_count": null,
      "metadata": {
        "colab": {
          "base_uri": "https://localhost:8080/",
          "height": 374
        },
        "id": "dA71jnfD9tCg",
        "outputId": "081d3e02-b196-4cd9-fc64-9c0eec5cc643"
      },
      "outputs": [
        {
          "output_type": "execute_result",
          "data": {
            "text/plain": [
              "        Patient ID  Patient age quantile SARS-Cov-2 exam result  \\\n",
              "0  44477f75e8169d2                    13               negative   \n",
              "1  126e9dd13932f68                    17               negative   \n",
              "2  a46b4402a0e5696                     8               negative   \n",
              "3  f7d619a94f97c45                     5               negative   \n",
              "4  d9e41465789c2b5                    15               negative   \n",
              "\n",
              "   Patient addmited to regular ward (1=yes, 0=no)  \\\n",
              "0                                               0   \n",
              "1                                               0   \n",
              "2                                               0   \n",
              "3                                               0   \n",
              "4                                               0   \n",
              "\n",
              "   Patient addmited to semi-intensive unit (1=yes, 0=no)  \\\n",
              "0                                                  0       \n",
              "1                                                  0       \n",
              "2                                                  0       \n",
              "3                                                  0       \n",
              "4                                                  0       \n",
              "\n",
              "   Patient addmited to intensive care unit (1=yes, 0=no)  Hematocrit  \\\n",
              "0                                                  0             NaN   \n",
              "1                                                  0        0.236515   \n",
              "2                                                  0             NaN   \n",
              "3                                                  0             NaN   \n",
              "4                                                  0             NaN   \n",
              "\n",
              "   Hemoglobin  Platelets  Mean platelet volume   Red blood Cells  Lymphocytes  \\\n",
              "0         NaN        NaN                    NaN              NaN          NaN   \n",
              "1    -0.02234  -0.517413               0.010677         0.102004     0.318366   \n",
              "2         NaN        NaN                    NaN              NaN          NaN   \n",
              "3         NaN        NaN                    NaN              NaN          NaN   \n",
              "4         NaN        NaN                    NaN              NaN          NaN   \n",
              "\n",
              "   Mean corpuscular hemoglobin concentration (MCHC)  Leukocytes  Basophils  \\\n",
              "0                                               NaN         NaN        NaN   \n",
              "1                                          -0.95079    -0.09461  -0.223767   \n",
              "2                                               NaN         NaN        NaN   \n",
              "3                                               NaN         NaN        NaN   \n",
              "4                                               NaN         NaN        NaN   \n",
              "\n",
              "   Mean corpuscular hemoglobin (MCH)  Eosinophils  \\\n",
              "0                                NaN          NaN   \n",
              "1                          -0.292269     1.482158   \n",
              "2                                NaN          NaN   \n",
              "3                                NaN          NaN   \n",
              "4                                NaN          NaN   \n",
              "\n",
              "   Mean corpuscular volume (MCV)  Monocytes  \\\n",
              "0                            NaN        NaN   \n",
              "1                       0.166192   0.357547   \n",
              "2                            NaN        NaN   \n",
              "3                            NaN        NaN   \n",
              "4                            NaN        NaN   \n",
              "\n",
              "   Red blood cell distribution width (RDW)  Serum Glucose  \\\n",
              "0                                      NaN            NaN   \n",
              "1                                -0.625073      -0.140648   \n",
              "2                                      NaN            NaN   \n",
              "3                                      NaN            NaN   \n",
              "4                                      NaN            NaN   \n",
              "\n",
              "  Respiratory Syncytial Virus   Influenza A   Influenza B Parainfluenza 1  \\\n",
              "0                         NaN           NaN           NaN             NaN   \n",
              "1                not_detected  not_detected  not_detected    not_detected   \n",
              "2                         NaN           NaN           NaN             NaN   \n",
              "3                         NaN           NaN           NaN             NaN   \n",
              "4                not_detected  not_detected  not_detected    not_detected   \n",
              "\n",
              "  CoronavirusNL63 Rhinovirus/Enterovirus  Mycoplasma pneumoniae  \\\n",
              "0             NaN                    NaN                    NaN   \n",
              "1    not_detected               detected                    NaN   \n",
              "2             NaN                    NaN                    NaN   \n",
              "3             NaN                    NaN                    NaN   \n",
              "4    not_detected               detected                    NaN   \n",
              "\n",
              "  Coronavirus HKU1 Parainfluenza 3 Chlamydophila pneumoniae    Adenovirus  \\\n",
              "0              NaN             NaN                      NaN           NaN   \n",
              "1     not_detected    not_detected             not_detected  not_detected   \n",
              "2              NaN             NaN                      NaN           NaN   \n",
              "3              NaN             NaN                      NaN           NaN   \n",
              "4     not_detected    not_detected             not_detected  not_detected   \n",
              "\n",
              "  Parainfluenza 4 Coronavirus229E CoronavirusOC43 Inf A H1N1 2009  \\\n",
              "0             NaN             NaN             NaN             NaN   \n",
              "1    not_detected    not_detected    not_detected    not_detected   \n",
              "2             NaN             NaN             NaN             NaN   \n",
              "3             NaN             NaN             NaN             NaN   \n",
              "4    not_detected    not_detected    not_detected    not_detected   \n",
              "\n",
              "  Bordetella pertussis Metapneumovirus Parainfluenza 2  Neutrophils      Urea  \\\n",
              "0                  NaN             NaN             NaN          NaN       NaN   \n",
              "1         not_detected    not_detected    not_detected    -0.619086  1.198059   \n",
              "2                  NaN             NaN             NaN          NaN       NaN   \n",
              "3                  NaN             NaN             NaN          NaN       NaN   \n",
              "4         not_detected    not_detected    not_detected          NaN       NaN   \n",
              "\n",
              "   Proteina C reativa mg/dL  Creatinine  Potassium    Sodium  \\\n",
              "0                       NaN         NaN        NaN       NaN   \n",
              "1                 -0.147895    2.089928  -0.305787  0.862512   \n",
              "2                       NaN         NaN        NaN       NaN   \n",
              "3                       NaN         NaN        NaN       NaN   \n",
              "4                       NaN         NaN        NaN       NaN   \n",
              "\n",
              "  Influenza B, rapid test Influenza A, rapid test  Alanine transaminase  \\\n",
              "0                     NaN                     NaN                   NaN   \n",
              "1                negative                negative                   NaN   \n",
              "2                     NaN                     NaN                   NaN   \n",
              "3                     NaN                     NaN                   NaN   \n",
              "4                     NaN                     NaN                   NaN   \n",
              "\n",
              "   Aspartate transaminase  Gamma-glutamyltransferase   Total Bilirubin  \\\n",
              "0                     NaN                         NaN              NaN   \n",
              "1                     NaN                         NaN              NaN   \n",
              "2                     NaN                         NaN              NaN   \n",
              "3                     NaN                         NaN              NaN   \n",
              "4                     NaN                         NaN              NaN   \n",
              "\n",
              "   Direct Bilirubin  Indirect Bilirubin  Alkaline phosphatase  \\\n",
              "0               NaN                 NaN                   NaN   \n",
              "1               NaN                 NaN                   NaN   \n",
              "2               NaN                 NaN                   NaN   \n",
              "3               NaN                 NaN                   NaN   \n",
              "4               NaN                 NaN                   NaN   \n",
              "\n",
              "   Ionized calcium  Strepto A  Magnesium  pCO2 (venous blood gas analysis)  \\\n",
              "0               NaN       NaN        NaN                               NaN   \n",
              "1               NaN       NaN        NaN                               NaN   \n",
              "2               NaN       NaN        NaN                               NaN   \n",
              "3               NaN       NaN        NaN                               NaN   \n",
              "4               NaN       NaN        NaN                               NaN   \n",
              "\n",
              "   Hb saturation (venous blood gas analysis)  \\\n",
              "0                                        NaN   \n",
              "1                                        NaN   \n",
              "2                                        NaN   \n",
              "3                                        NaN   \n",
              "4                                        NaN   \n",
              "\n",
              "   Base excess (venous blood gas analysis)  pO2 (venous blood gas analysis)  \\\n",
              "0                                      NaN                              NaN   \n",
              "1                                      NaN                              NaN   \n",
              "2                                      NaN                              NaN   \n",
              "3                                      NaN                              NaN   \n",
              "4                                      NaN                              NaN   \n",
              "\n",
              "   Fio2 (venous blood gas analysis)  Total CO2 (venous blood gas analysis)  \\\n",
              "0                               NaN                                    NaN   \n",
              "1                               NaN                                    NaN   \n",
              "2                               NaN                                    NaN   \n",
              "3                               NaN                                    NaN   \n",
              "4                               NaN                                    NaN   \n",
              "\n",
              "   pH (venous blood gas analysis)  HCO3 (venous blood gas analysis)  Rods #  \\\n",
              "0                             NaN                               NaN     NaN   \n",
              "1                             NaN                               NaN     NaN   \n",
              "2                             NaN                               NaN     NaN   \n",
              "3                             NaN                               NaN     NaN   \n",
              "4                             NaN                               NaN     NaN   \n",
              "\n",
              "   Segmented  Promyelocytes  Metamyelocytes  Myelocytes  Myeloblasts  \\\n",
              "0        NaN            NaN             NaN         NaN          NaN   \n",
              "1        NaN            NaN             NaN         NaN          NaN   \n",
              "2        NaN            NaN             NaN         NaN          NaN   \n",
              "3        NaN            NaN             NaN         NaN          NaN   \n",
              "4        NaN            NaN             NaN         NaN          NaN   \n",
              "\n",
              "  Urine - Esterase Urine - Aspect Urine - pH Urine - Hemoglobin  \\\n",
              "0              NaN            NaN        NaN                NaN   \n",
              "1              NaN            NaN        NaN                NaN   \n",
              "2              NaN            NaN        NaN                NaN   \n",
              "3              NaN            NaN        NaN                NaN   \n",
              "4              NaN            NaN        NaN                NaN   \n",
              "\n",
              "  Urine - Bile pigments Urine - Ketone Bodies Urine - Nitrite  \\\n",
              "0                   NaN                   NaN             NaN   \n",
              "1                   NaN                   NaN             NaN   \n",
              "2                   NaN                   NaN             NaN   \n",
              "3                   NaN                   NaN             NaN   \n",
              "4                   NaN                   NaN             NaN   \n",
              "\n",
              "   Urine - Density Urine - Urobilinogen Urine - Protein  Urine - Sugar  \\\n",
              "0              NaN                  NaN             NaN            NaN   \n",
              "1              NaN                  NaN             NaN            NaN   \n",
              "2              NaN                  NaN             NaN            NaN   \n",
              "3              NaN                  NaN             NaN            NaN   \n",
              "4              NaN                  NaN             NaN            NaN   \n",
              "\n",
              "  Urine - Leukocytes Urine - Crystals  Urine - Red blood cells  \\\n",
              "0                NaN              NaN                      NaN   \n",
              "1                NaN              NaN                      NaN   \n",
              "2                NaN              NaN                      NaN   \n",
              "3                NaN              NaN                      NaN   \n",
              "4                NaN              NaN                      NaN   \n",
              "\n",
              "  Urine - Hyaline cylinders Urine - Granular cylinders Urine - Yeasts  \\\n",
              "0                       NaN                        NaN            NaN   \n",
              "1                       NaN                        NaN            NaN   \n",
              "2                       NaN                        NaN            NaN   \n",
              "3                       NaN                        NaN            NaN   \n",
              "4                       NaN                        NaN            NaN   \n",
              "\n",
              "  Urine - Color  Partial thromboplastin time (PTT)   \\\n",
              "0           NaN                                 NaN   \n",
              "1           NaN                                 NaN   \n",
              "2           NaN                                 NaN   \n",
              "3           NaN                                 NaN   \n",
              "4           NaN                                 NaN   \n",
              "\n",
              "   Relationship (Patient/Normal)  International normalized ratio (INR)  \\\n",
              "0                            NaN                                   NaN   \n",
              "1                            NaN                                   NaN   \n",
              "2                            NaN                                   NaN   \n",
              "3                            NaN                                   NaN   \n",
              "4                            NaN                                   NaN   \n",
              "\n",
              "   Lactic Dehydrogenase  Prothrombin time (PT), Activity  Vitamin B12  \\\n",
              "0                   NaN                              NaN          NaN   \n",
              "1                   NaN                              NaN          NaN   \n",
              "2                   NaN                              NaN          NaN   \n",
              "3                   NaN                              NaN          NaN   \n",
              "4                   NaN                              NaN          NaN   \n",
              "\n",
              "   Creatine phosphokinase (CPK)   Ferritin  Arterial Lactic Acid  \\\n",
              "0                            NaN       NaN                   NaN   \n",
              "1                            NaN       NaN                   NaN   \n",
              "2                            NaN       NaN                   NaN   \n",
              "3                            NaN       NaN                   NaN   \n",
              "4                            NaN       NaN                   NaN   \n",
              "\n",
              "   Lipase dosage  D-Dimer  Albumin  Hb saturation (arterial blood gases)  \\\n",
              "0            NaN      NaN      NaN                                   NaN   \n",
              "1            NaN      NaN      NaN                                   NaN   \n",
              "2            NaN      NaN      NaN                                   NaN   \n",
              "3            NaN      NaN      NaN                                   NaN   \n",
              "4            NaN      NaN      NaN                                   NaN   \n",
              "\n",
              "   pCO2 (arterial blood gas analysis)  \\\n",
              "0                                 NaN   \n",
              "1                                 NaN   \n",
              "2                                 NaN   \n",
              "3                                 NaN   \n",
              "4                                 NaN   \n",
              "\n",
              "   Base excess (arterial blood gas analysis)  \\\n",
              "0                                        NaN   \n",
              "1                                        NaN   \n",
              "2                                        NaN   \n",
              "3                                        NaN   \n",
              "4                                        NaN   \n",
              "\n",
              "   pH (arterial blood gas analysis)  Total CO2 (arterial blood gas analysis)  \\\n",
              "0                               NaN                                      NaN   \n",
              "1                               NaN                                      NaN   \n",
              "2                               NaN                                      NaN   \n",
              "3                               NaN                                      NaN   \n",
              "4                               NaN                                      NaN   \n",
              "\n",
              "   HCO3 (arterial blood gas analysis)  pO2 (arterial blood gas analysis)  \\\n",
              "0                                 NaN                                NaN   \n",
              "1                                 NaN                                NaN   \n",
              "2                                 NaN                                NaN   \n",
              "3                                 NaN                                NaN   \n",
              "4                                 NaN                                NaN   \n",
              "\n",
              "   Arteiral Fio2  Phosphor  ctO2 (arterial blood gas analysis)  \n",
              "0            NaN       NaN                                 NaN  \n",
              "1            NaN       NaN                                 NaN  \n",
              "2            NaN       NaN                                 NaN  \n",
              "3            NaN       NaN                                 NaN  \n",
              "4            NaN       NaN                                 NaN  "
            ],
            "text/html": [
              "\n",
              "  <div id=\"df-f9a01539-4fa1-4aa4-a4ce-3abd03c162a2\">\n",
              "    <div class=\"colab-df-container\">\n",
              "      <div>\n",
              "<style scoped>\n",
              "    .dataframe tbody tr th:only-of-type {\n",
              "        vertical-align: middle;\n",
              "    }\n",
              "\n",
              "    .dataframe tbody tr th {\n",
              "        vertical-align: top;\n",
              "    }\n",
              "\n",
              "    .dataframe thead th {\n",
              "        text-align: right;\n",
              "    }\n",
              "</style>\n",
              "<table border=\"1\" class=\"dataframe\">\n",
              "  <thead>\n",
              "    <tr style=\"text-align: right;\">\n",
              "      <th></th>\n",
              "      <th>Patient ID</th>\n",
              "      <th>Patient age quantile</th>\n",
              "      <th>SARS-Cov-2 exam result</th>\n",
              "      <th>Patient addmited to regular ward (1=yes, 0=no)</th>\n",
              "      <th>Patient addmited to semi-intensive unit (1=yes, 0=no)</th>\n",
              "      <th>Patient addmited to intensive care unit (1=yes, 0=no)</th>\n",
              "      <th>Hematocrit</th>\n",
              "      <th>Hemoglobin</th>\n",
              "      <th>Platelets</th>\n",
              "      <th>Mean platelet volume</th>\n",
              "      <th>Red blood Cells</th>\n",
              "      <th>Lymphocytes</th>\n",
              "      <th>Mean corpuscular hemoglobin concentration (MCHC)</th>\n",
              "      <th>Leukocytes</th>\n",
              "      <th>Basophils</th>\n",
              "      <th>Mean corpuscular hemoglobin (MCH)</th>\n",
              "      <th>Eosinophils</th>\n",
              "      <th>Mean corpuscular volume (MCV)</th>\n",
              "      <th>Monocytes</th>\n",
              "      <th>Red blood cell distribution width (RDW)</th>\n",
              "      <th>Serum Glucose</th>\n",
              "      <th>Respiratory Syncytial Virus</th>\n",
              "      <th>Influenza A</th>\n",
              "      <th>Influenza B</th>\n",
              "      <th>Parainfluenza 1</th>\n",
              "      <th>CoronavirusNL63</th>\n",
              "      <th>Rhinovirus/Enterovirus</th>\n",
              "      <th>Mycoplasma pneumoniae</th>\n",
              "      <th>Coronavirus HKU1</th>\n",
              "      <th>Parainfluenza 3</th>\n",
              "      <th>Chlamydophila pneumoniae</th>\n",
              "      <th>Adenovirus</th>\n",
              "      <th>Parainfluenza 4</th>\n",
              "      <th>Coronavirus229E</th>\n",
              "      <th>CoronavirusOC43</th>\n",
              "      <th>Inf A H1N1 2009</th>\n",
              "      <th>Bordetella pertussis</th>\n",
              "      <th>Metapneumovirus</th>\n",
              "      <th>Parainfluenza 2</th>\n",
              "      <th>Neutrophils</th>\n",
              "      <th>Urea</th>\n",
              "      <th>Proteina C reativa mg/dL</th>\n",
              "      <th>Creatinine</th>\n",
              "      <th>Potassium</th>\n",
              "      <th>Sodium</th>\n",
              "      <th>Influenza B, rapid test</th>\n",
              "      <th>Influenza A, rapid test</th>\n",
              "      <th>Alanine transaminase</th>\n",
              "      <th>Aspartate transaminase</th>\n",
              "      <th>Gamma-glutamyltransferase</th>\n",
              "      <th>Total Bilirubin</th>\n",
              "      <th>Direct Bilirubin</th>\n",
              "      <th>Indirect Bilirubin</th>\n",
              "      <th>Alkaline phosphatase</th>\n",
              "      <th>Ionized calcium</th>\n",
              "      <th>Strepto A</th>\n",
              "      <th>Magnesium</th>\n",
              "      <th>pCO2 (venous blood gas analysis)</th>\n",
              "      <th>Hb saturation (venous blood gas analysis)</th>\n",
              "      <th>Base excess (venous blood gas analysis)</th>\n",
              "      <th>pO2 (venous blood gas analysis)</th>\n",
              "      <th>Fio2 (venous blood gas analysis)</th>\n",
              "      <th>Total CO2 (venous blood gas analysis)</th>\n",
              "      <th>pH (venous blood gas analysis)</th>\n",
              "      <th>HCO3 (venous blood gas analysis)</th>\n",
              "      <th>Rods #</th>\n",
              "      <th>Segmented</th>\n",
              "      <th>Promyelocytes</th>\n",
              "      <th>Metamyelocytes</th>\n",
              "      <th>Myelocytes</th>\n",
              "      <th>Myeloblasts</th>\n",
              "      <th>Urine - Esterase</th>\n",
              "      <th>Urine - Aspect</th>\n",
              "      <th>Urine - pH</th>\n",
              "      <th>Urine - Hemoglobin</th>\n",
              "      <th>Urine - Bile pigments</th>\n",
              "      <th>Urine - Ketone Bodies</th>\n",
              "      <th>Urine - Nitrite</th>\n",
              "      <th>Urine - Density</th>\n",
              "      <th>Urine - Urobilinogen</th>\n",
              "      <th>Urine - Protein</th>\n",
              "      <th>Urine - Sugar</th>\n",
              "      <th>Urine - Leukocytes</th>\n",
              "      <th>Urine - Crystals</th>\n",
              "      <th>Urine - Red blood cells</th>\n",
              "      <th>Urine - Hyaline cylinders</th>\n",
              "      <th>Urine - Granular cylinders</th>\n",
              "      <th>Urine - Yeasts</th>\n",
              "      <th>Urine - Color</th>\n",
              "      <th>Partial thromboplastin time (PTT)</th>\n",
              "      <th>Relationship (Patient/Normal)</th>\n",
              "      <th>International normalized ratio (INR)</th>\n",
              "      <th>Lactic Dehydrogenase</th>\n",
              "      <th>Prothrombin time (PT), Activity</th>\n",
              "      <th>Vitamin B12</th>\n",
              "      <th>Creatine phosphokinase (CPK)</th>\n",
              "      <th>Ferritin</th>\n",
              "      <th>Arterial Lactic Acid</th>\n",
              "      <th>Lipase dosage</th>\n",
              "      <th>D-Dimer</th>\n",
              "      <th>Albumin</th>\n",
              "      <th>Hb saturation (arterial blood gases)</th>\n",
              "      <th>pCO2 (arterial blood gas analysis)</th>\n",
              "      <th>Base excess (arterial blood gas analysis)</th>\n",
              "      <th>pH (arterial blood gas analysis)</th>\n",
              "      <th>Total CO2 (arterial blood gas analysis)</th>\n",
              "      <th>HCO3 (arterial blood gas analysis)</th>\n",
              "      <th>pO2 (arterial blood gas analysis)</th>\n",
              "      <th>Arteiral Fio2</th>\n",
              "      <th>Phosphor</th>\n",
              "      <th>ctO2 (arterial blood gas analysis)</th>\n",
              "    </tr>\n",
              "  </thead>\n",
              "  <tbody>\n",
              "    <tr>\n",
              "      <th>0</th>\n",
              "      <td>44477f75e8169d2</td>\n",
              "      <td>13</td>\n",
              "      <td>negative</td>\n",
              "      <td>0</td>\n",
              "      <td>0</td>\n",
              "      <td>0</td>\n",
              "      <td>NaN</td>\n",
              "      <td>NaN</td>\n",
              "      <td>NaN</td>\n",
              "      <td>NaN</td>\n",
              "      <td>NaN</td>\n",
              "      <td>NaN</td>\n",
              "      <td>NaN</td>\n",
              "      <td>NaN</td>\n",
              "      <td>NaN</td>\n",
              "      <td>NaN</td>\n",
              "      <td>NaN</td>\n",
              "      <td>NaN</td>\n",
              "      <td>NaN</td>\n",
              "      <td>NaN</td>\n",
              "      <td>NaN</td>\n",
              "      <td>NaN</td>\n",
              "      <td>NaN</td>\n",
              "      <td>NaN</td>\n",
              "      <td>NaN</td>\n",
              "      <td>NaN</td>\n",
              "      <td>NaN</td>\n",
              "      <td>NaN</td>\n",
              "      <td>NaN</td>\n",
              "      <td>NaN</td>\n",
              "      <td>NaN</td>\n",
              "      <td>NaN</td>\n",
              "      <td>NaN</td>\n",
              "      <td>NaN</td>\n",
              "      <td>NaN</td>\n",
              "      <td>NaN</td>\n",
              "      <td>NaN</td>\n",
              "      <td>NaN</td>\n",
              "      <td>NaN</td>\n",
              "      <td>NaN</td>\n",
              "      <td>NaN</td>\n",
              "      <td>NaN</td>\n",
              "      <td>NaN</td>\n",
              "      <td>NaN</td>\n",
              "      <td>NaN</td>\n",
              "      <td>NaN</td>\n",
              "      <td>NaN</td>\n",
              "      <td>NaN</td>\n",
              "      <td>NaN</td>\n",
              "      <td>NaN</td>\n",
              "      <td>NaN</td>\n",
              "      <td>NaN</td>\n",
              "      <td>NaN</td>\n",
              "      <td>NaN</td>\n",
              "      <td>NaN</td>\n",
              "      <td>NaN</td>\n",
              "      <td>NaN</td>\n",
              "      <td>NaN</td>\n",
              "      <td>NaN</td>\n",
              "      <td>NaN</td>\n",
              "      <td>NaN</td>\n",
              "      <td>NaN</td>\n",
              "      <td>NaN</td>\n",
              "      <td>NaN</td>\n",
              "      <td>NaN</td>\n",
              "      <td>NaN</td>\n",
              "      <td>NaN</td>\n",
              "      <td>NaN</td>\n",
              "      <td>NaN</td>\n",
              "      <td>NaN</td>\n",
              "      <td>NaN</td>\n",
              "      <td>NaN</td>\n",
              "      <td>NaN</td>\n",
              "      <td>NaN</td>\n",
              "      <td>NaN</td>\n",
              "      <td>NaN</td>\n",
              "      <td>NaN</td>\n",
              "      <td>NaN</td>\n",
              "      <td>NaN</td>\n",
              "      <td>NaN</td>\n",
              "      <td>NaN</td>\n",
              "      <td>NaN</td>\n",
              "      <td>NaN</td>\n",
              "      <td>NaN</td>\n",
              "      <td>NaN</td>\n",
              "      <td>NaN</td>\n",
              "      <td>NaN</td>\n",
              "      <td>NaN</td>\n",
              "      <td>NaN</td>\n",
              "      <td>NaN</td>\n",
              "      <td>NaN</td>\n",
              "      <td>NaN</td>\n",
              "      <td>NaN</td>\n",
              "      <td>NaN</td>\n",
              "      <td>NaN</td>\n",
              "      <td>NaN</td>\n",
              "      <td>NaN</td>\n",
              "      <td>NaN</td>\n",
              "      <td>NaN</td>\n",
              "      <td>NaN</td>\n",
              "      <td>NaN</td>\n",
              "      <td>NaN</td>\n",
              "      <td>NaN</td>\n",
              "      <td>NaN</td>\n",
              "      <td>NaN</td>\n",
              "      <td>NaN</td>\n",
              "      <td>NaN</td>\n",
              "      <td>NaN</td>\n",
              "      <td>NaN</td>\n",
              "      <td>NaN</td>\n",
              "      <td>NaN</td>\n",
              "    </tr>\n",
              "    <tr>\n",
              "      <th>1</th>\n",
              "      <td>126e9dd13932f68</td>\n",
              "      <td>17</td>\n",
              "      <td>negative</td>\n",
              "      <td>0</td>\n",
              "      <td>0</td>\n",
              "      <td>0</td>\n",
              "      <td>0.236515</td>\n",
              "      <td>-0.02234</td>\n",
              "      <td>-0.517413</td>\n",
              "      <td>0.010677</td>\n",
              "      <td>0.102004</td>\n",
              "      <td>0.318366</td>\n",
              "      <td>-0.95079</td>\n",
              "      <td>-0.09461</td>\n",
              "      <td>-0.223767</td>\n",
              "      <td>-0.292269</td>\n",
              "      <td>1.482158</td>\n",
              "      <td>0.166192</td>\n",
              "      <td>0.357547</td>\n",
              "      <td>-0.625073</td>\n",
              "      <td>-0.140648</td>\n",
              "      <td>not_detected</td>\n",
              "      <td>not_detected</td>\n",
              "      <td>not_detected</td>\n",
              "      <td>not_detected</td>\n",
              "      <td>not_detected</td>\n",
              "      <td>detected</td>\n",
              "      <td>NaN</td>\n",
              "      <td>not_detected</td>\n",
              "      <td>not_detected</td>\n",
              "      <td>not_detected</td>\n",
              "      <td>not_detected</td>\n",
              "      <td>not_detected</td>\n",
              "      <td>not_detected</td>\n",
              "      <td>not_detected</td>\n",
              "      <td>not_detected</td>\n",
              "      <td>not_detected</td>\n",
              "      <td>not_detected</td>\n",
              "      <td>not_detected</td>\n",
              "      <td>-0.619086</td>\n",
              "      <td>1.198059</td>\n",
              "      <td>-0.147895</td>\n",
              "      <td>2.089928</td>\n",
              "      <td>-0.305787</td>\n",
              "      <td>0.862512</td>\n",
              "      <td>negative</td>\n",
              "      <td>negative</td>\n",
              "      <td>NaN</td>\n",
              "      <td>NaN</td>\n",
              "      <td>NaN</td>\n",
              "      <td>NaN</td>\n",
              "      <td>NaN</td>\n",
              "      <td>NaN</td>\n",
              "      <td>NaN</td>\n",
              "      <td>NaN</td>\n",
              "      <td>NaN</td>\n",
              "      <td>NaN</td>\n",
              "      <td>NaN</td>\n",
              "      <td>NaN</td>\n",
              "      <td>NaN</td>\n",
              "      <td>NaN</td>\n",
              "      <td>NaN</td>\n",
              "      <td>NaN</td>\n",
              "      <td>NaN</td>\n",
              "      <td>NaN</td>\n",
              "      <td>NaN</td>\n",
              "      <td>NaN</td>\n",
              "      <td>NaN</td>\n",
              "      <td>NaN</td>\n",
              "      <td>NaN</td>\n",
              "      <td>NaN</td>\n",
              "      <td>NaN</td>\n",
              "      <td>NaN</td>\n",
              "      <td>NaN</td>\n",
              "      <td>NaN</td>\n",
              "      <td>NaN</td>\n",
              "      <td>NaN</td>\n",
              "      <td>NaN</td>\n",
              "      <td>NaN</td>\n",
              "      <td>NaN</td>\n",
              "      <td>NaN</td>\n",
              "      <td>NaN</td>\n",
              "      <td>NaN</td>\n",
              "      <td>NaN</td>\n",
              "      <td>NaN</td>\n",
              "      <td>NaN</td>\n",
              "      <td>NaN</td>\n",
              "      <td>NaN</td>\n",
              "      <td>NaN</td>\n",
              "      <td>NaN</td>\n",
              "      <td>NaN</td>\n",
              "      <td>NaN</td>\n",
              "      <td>NaN</td>\n",
              "      <td>NaN</td>\n",
              "      <td>NaN</td>\n",
              "      <td>NaN</td>\n",
              "      <td>NaN</td>\n",
              "      <td>NaN</td>\n",
              "      <td>NaN</td>\n",
              "      <td>NaN</td>\n",
              "      <td>NaN</td>\n",
              "      <td>NaN</td>\n",
              "      <td>NaN</td>\n",
              "      <td>NaN</td>\n",
              "      <td>NaN</td>\n",
              "      <td>NaN</td>\n",
              "      <td>NaN</td>\n",
              "      <td>NaN</td>\n",
              "      <td>NaN</td>\n",
              "      <td>NaN</td>\n",
              "      <td>NaN</td>\n",
              "    </tr>\n",
              "    <tr>\n",
              "      <th>2</th>\n",
              "      <td>a46b4402a0e5696</td>\n",
              "      <td>8</td>\n",
              "      <td>negative</td>\n",
              "      <td>0</td>\n",
              "      <td>0</td>\n",
              "      <td>0</td>\n",
              "      <td>NaN</td>\n",
              "      <td>NaN</td>\n",
              "      <td>NaN</td>\n",
              "      <td>NaN</td>\n",
              "      <td>NaN</td>\n",
              "      <td>NaN</td>\n",
              "      <td>NaN</td>\n",
              "      <td>NaN</td>\n",
              "      <td>NaN</td>\n",
              "      <td>NaN</td>\n",
              "      <td>NaN</td>\n",
              "      <td>NaN</td>\n",
              "      <td>NaN</td>\n",
              "      <td>NaN</td>\n",
              "      <td>NaN</td>\n",
              "      <td>NaN</td>\n",
              "      <td>NaN</td>\n",
              "      <td>NaN</td>\n",
              "      <td>NaN</td>\n",
              "      <td>NaN</td>\n",
              "      <td>NaN</td>\n",
              "      <td>NaN</td>\n",
              "      <td>NaN</td>\n",
              "      <td>NaN</td>\n",
              "      <td>NaN</td>\n",
              "      <td>NaN</td>\n",
              "      <td>NaN</td>\n",
              "      <td>NaN</td>\n",
              "      <td>NaN</td>\n",
              "      <td>NaN</td>\n",
              "      <td>NaN</td>\n",
              "      <td>NaN</td>\n",
              "      <td>NaN</td>\n",
              "      <td>NaN</td>\n",
              "      <td>NaN</td>\n",
              "      <td>NaN</td>\n",
              "      <td>NaN</td>\n",
              "      <td>NaN</td>\n",
              "      <td>NaN</td>\n",
              "      <td>NaN</td>\n",
              "      <td>NaN</td>\n",
              "      <td>NaN</td>\n",
              "      <td>NaN</td>\n",
              "      <td>NaN</td>\n",
              "      <td>NaN</td>\n",
              "      <td>NaN</td>\n",
              "      <td>NaN</td>\n",
              "      <td>NaN</td>\n",
              "      <td>NaN</td>\n",
              "      <td>NaN</td>\n",
              "      <td>NaN</td>\n",
              "      <td>NaN</td>\n",
              "      <td>NaN</td>\n",
              "      <td>NaN</td>\n",
              "      <td>NaN</td>\n",
              "      <td>NaN</td>\n",
              "      <td>NaN</td>\n",
              "      <td>NaN</td>\n",
              "      <td>NaN</td>\n",
              "      <td>NaN</td>\n",
              "      <td>NaN</td>\n",
              "      <td>NaN</td>\n",
              "      <td>NaN</td>\n",
              "      <td>NaN</td>\n",
              "      <td>NaN</td>\n",
              "      <td>NaN</td>\n",
              "      <td>NaN</td>\n",
              "      <td>NaN</td>\n",
              "      <td>NaN</td>\n",
              "      <td>NaN</td>\n",
              "      <td>NaN</td>\n",
              "      <td>NaN</td>\n",
              "      <td>NaN</td>\n",
              "      <td>NaN</td>\n",
              "      <td>NaN</td>\n",
              "      <td>NaN</td>\n",
              "      <td>NaN</td>\n",
              "      <td>NaN</td>\n",
              "      <td>NaN</td>\n",
              "      <td>NaN</td>\n",
              "      <td>NaN</td>\n",
              "      <td>NaN</td>\n",
              "      <td>NaN</td>\n",
              "      <td>NaN</td>\n",
              "      <td>NaN</td>\n",
              "      <td>NaN</td>\n",
              "      <td>NaN</td>\n",
              "      <td>NaN</td>\n",
              "      <td>NaN</td>\n",
              "      <td>NaN</td>\n",
              "      <td>NaN</td>\n",
              "      <td>NaN</td>\n",
              "      <td>NaN</td>\n",
              "      <td>NaN</td>\n",
              "      <td>NaN</td>\n",
              "      <td>NaN</td>\n",
              "      <td>NaN</td>\n",
              "      <td>NaN</td>\n",
              "      <td>NaN</td>\n",
              "      <td>NaN</td>\n",
              "      <td>NaN</td>\n",
              "      <td>NaN</td>\n",
              "      <td>NaN</td>\n",
              "      <td>NaN</td>\n",
              "      <td>NaN</td>\n",
              "    </tr>\n",
              "    <tr>\n",
              "      <th>3</th>\n",
              "      <td>f7d619a94f97c45</td>\n",
              "      <td>5</td>\n",
              "      <td>negative</td>\n",
              "      <td>0</td>\n",
              "      <td>0</td>\n",
              "      <td>0</td>\n",
              "      <td>NaN</td>\n",
              "      <td>NaN</td>\n",
              "      <td>NaN</td>\n",
              "      <td>NaN</td>\n",
              "      <td>NaN</td>\n",
              "      <td>NaN</td>\n",
              "      <td>NaN</td>\n",
              "      <td>NaN</td>\n",
              "      <td>NaN</td>\n",
              "      <td>NaN</td>\n",
              "      <td>NaN</td>\n",
              "      <td>NaN</td>\n",
              "      <td>NaN</td>\n",
              "      <td>NaN</td>\n",
              "      <td>NaN</td>\n",
              "      <td>NaN</td>\n",
              "      <td>NaN</td>\n",
              "      <td>NaN</td>\n",
              "      <td>NaN</td>\n",
              "      <td>NaN</td>\n",
              "      <td>NaN</td>\n",
              "      <td>NaN</td>\n",
              "      <td>NaN</td>\n",
              "      <td>NaN</td>\n",
              "      <td>NaN</td>\n",
              "      <td>NaN</td>\n",
              "      <td>NaN</td>\n",
              "      <td>NaN</td>\n",
              "      <td>NaN</td>\n",
              "      <td>NaN</td>\n",
              "      <td>NaN</td>\n",
              "      <td>NaN</td>\n",
              "      <td>NaN</td>\n",
              "      <td>NaN</td>\n",
              "      <td>NaN</td>\n",
              "      <td>NaN</td>\n",
              "      <td>NaN</td>\n",
              "      <td>NaN</td>\n",
              "      <td>NaN</td>\n",
              "      <td>NaN</td>\n",
              "      <td>NaN</td>\n",
              "      <td>NaN</td>\n",
              "      <td>NaN</td>\n",
              "      <td>NaN</td>\n",
              "      <td>NaN</td>\n",
              "      <td>NaN</td>\n",
              "      <td>NaN</td>\n",
              "      <td>NaN</td>\n",
              "      <td>NaN</td>\n",
              "      <td>NaN</td>\n",
              "      <td>NaN</td>\n",
              "      <td>NaN</td>\n",
              "      <td>NaN</td>\n",
              "      <td>NaN</td>\n",
              "      <td>NaN</td>\n",
              "      <td>NaN</td>\n",
              "      <td>NaN</td>\n",
              "      <td>NaN</td>\n",
              "      <td>NaN</td>\n",
              "      <td>NaN</td>\n",
              "      <td>NaN</td>\n",
              "      <td>NaN</td>\n",
              "      <td>NaN</td>\n",
              "      <td>NaN</td>\n",
              "      <td>NaN</td>\n",
              "      <td>NaN</td>\n",
              "      <td>NaN</td>\n",
              "      <td>NaN</td>\n",
              "      <td>NaN</td>\n",
              "      <td>NaN</td>\n",
              "      <td>NaN</td>\n",
              "      <td>NaN</td>\n",
              "      <td>NaN</td>\n",
              "      <td>NaN</td>\n",
              "      <td>NaN</td>\n",
              "      <td>NaN</td>\n",
              "      <td>NaN</td>\n",
              "      <td>NaN</td>\n",
              "      <td>NaN</td>\n",
              "      <td>NaN</td>\n",
              "      <td>NaN</td>\n",
              "      <td>NaN</td>\n",
              "      <td>NaN</td>\n",
              "      <td>NaN</td>\n",
              "      <td>NaN</td>\n",
              "      <td>NaN</td>\n",
              "      <td>NaN</td>\n",
              "      <td>NaN</td>\n",
              "      <td>NaN</td>\n",
              "      <td>NaN</td>\n",
              "      <td>NaN</td>\n",
              "      <td>NaN</td>\n",
              "      <td>NaN</td>\n",
              "      <td>NaN</td>\n",
              "      <td>NaN</td>\n",
              "      <td>NaN</td>\n",
              "      <td>NaN</td>\n",
              "      <td>NaN</td>\n",
              "      <td>NaN</td>\n",
              "      <td>NaN</td>\n",
              "      <td>NaN</td>\n",
              "      <td>NaN</td>\n",
              "      <td>NaN</td>\n",
              "      <td>NaN</td>\n",
              "      <td>NaN</td>\n",
              "    </tr>\n",
              "    <tr>\n",
              "      <th>4</th>\n",
              "      <td>d9e41465789c2b5</td>\n",
              "      <td>15</td>\n",
              "      <td>negative</td>\n",
              "      <td>0</td>\n",
              "      <td>0</td>\n",
              "      <td>0</td>\n",
              "      <td>NaN</td>\n",
              "      <td>NaN</td>\n",
              "      <td>NaN</td>\n",
              "      <td>NaN</td>\n",
              "      <td>NaN</td>\n",
              "      <td>NaN</td>\n",
              "      <td>NaN</td>\n",
              "      <td>NaN</td>\n",
              "      <td>NaN</td>\n",
              "      <td>NaN</td>\n",
              "      <td>NaN</td>\n",
              "      <td>NaN</td>\n",
              "      <td>NaN</td>\n",
              "      <td>NaN</td>\n",
              "      <td>NaN</td>\n",
              "      <td>not_detected</td>\n",
              "      <td>not_detected</td>\n",
              "      <td>not_detected</td>\n",
              "      <td>not_detected</td>\n",
              "      <td>not_detected</td>\n",
              "      <td>detected</td>\n",
              "      <td>NaN</td>\n",
              "      <td>not_detected</td>\n",
              "      <td>not_detected</td>\n",
              "      <td>not_detected</td>\n",
              "      <td>not_detected</td>\n",
              "      <td>not_detected</td>\n",
              "      <td>not_detected</td>\n",
              "      <td>not_detected</td>\n",
              "      <td>not_detected</td>\n",
              "      <td>not_detected</td>\n",
              "      <td>not_detected</td>\n",
              "      <td>not_detected</td>\n",
              "      <td>NaN</td>\n",
              "      <td>NaN</td>\n",
              "      <td>NaN</td>\n",
              "      <td>NaN</td>\n",
              "      <td>NaN</td>\n",
              "      <td>NaN</td>\n",
              "      <td>NaN</td>\n",
              "      <td>NaN</td>\n",
              "      <td>NaN</td>\n",
              "      <td>NaN</td>\n",
              "      <td>NaN</td>\n",
              "      <td>NaN</td>\n",
              "      <td>NaN</td>\n",
              "      <td>NaN</td>\n",
              "      <td>NaN</td>\n",
              "      <td>NaN</td>\n",
              "      <td>NaN</td>\n",
              "      <td>NaN</td>\n",
              "      <td>NaN</td>\n",
              "      <td>NaN</td>\n",
              "      <td>NaN</td>\n",
              "      <td>NaN</td>\n",
              "      <td>NaN</td>\n",
              "      <td>NaN</td>\n",
              "      <td>NaN</td>\n",
              "      <td>NaN</td>\n",
              "      <td>NaN</td>\n",
              "      <td>NaN</td>\n",
              "      <td>NaN</td>\n",
              "      <td>NaN</td>\n",
              "      <td>NaN</td>\n",
              "      <td>NaN</td>\n",
              "      <td>NaN</td>\n",
              "      <td>NaN</td>\n",
              "      <td>NaN</td>\n",
              "      <td>NaN</td>\n",
              "      <td>NaN</td>\n",
              "      <td>NaN</td>\n",
              "      <td>NaN</td>\n",
              "      <td>NaN</td>\n",
              "      <td>NaN</td>\n",
              "      <td>NaN</td>\n",
              "      <td>NaN</td>\n",
              "      <td>NaN</td>\n",
              "      <td>NaN</td>\n",
              "      <td>NaN</td>\n",
              "      <td>NaN</td>\n",
              "      <td>NaN</td>\n",
              "      <td>NaN</td>\n",
              "      <td>NaN</td>\n",
              "      <td>NaN</td>\n",
              "      <td>NaN</td>\n",
              "      <td>NaN</td>\n",
              "      <td>NaN</td>\n",
              "      <td>NaN</td>\n",
              "      <td>NaN</td>\n",
              "      <td>NaN</td>\n",
              "      <td>NaN</td>\n",
              "      <td>NaN</td>\n",
              "      <td>NaN</td>\n",
              "      <td>NaN</td>\n",
              "      <td>NaN</td>\n",
              "      <td>NaN</td>\n",
              "      <td>NaN</td>\n",
              "      <td>NaN</td>\n",
              "      <td>NaN</td>\n",
              "      <td>NaN</td>\n",
              "      <td>NaN</td>\n",
              "      <td>NaN</td>\n",
              "      <td>NaN</td>\n",
              "      <td>NaN</td>\n",
              "      <td>NaN</td>\n",
              "    </tr>\n",
              "  </tbody>\n",
              "</table>\n",
              "</div>\n",
              "      <button class=\"colab-df-convert\" onclick=\"convertToInteractive('df-f9a01539-4fa1-4aa4-a4ce-3abd03c162a2')\"\n",
              "              title=\"Convert this dataframe to an interactive table.\"\n",
              "              style=\"display:none;\">\n",
              "        \n",
              "  <svg xmlns=\"http://www.w3.org/2000/svg\" height=\"24px\"viewBox=\"0 0 24 24\"\n",
              "       width=\"24px\">\n",
              "    <path d=\"M0 0h24v24H0V0z\" fill=\"none\"/>\n",
              "    <path d=\"M18.56 5.44l.94 2.06.94-2.06 2.06-.94-2.06-.94-.94-2.06-.94 2.06-2.06.94zm-11 1L8.5 8.5l.94-2.06 2.06-.94-2.06-.94L8.5 2.5l-.94 2.06-2.06.94zm10 10l.94 2.06.94-2.06 2.06-.94-2.06-.94-.94-2.06-.94 2.06-2.06.94z\"/><path d=\"M17.41 7.96l-1.37-1.37c-.4-.4-.92-.59-1.43-.59-.52 0-1.04.2-1.43.59L10.3 9.45l-7.72 7.72c-.78.78-.78 2.05 0 2.83L4 21.41c.39.39.9.59 1.41.59.51 0 1.02-.2 1.41-.59l7.78-7.78 2.81-2.81c.8-.78.8-2.07 0-2.86zM5.41 20L4 18.59l7.72-7.72 1.47 1.35L5.41 20z\"/>\n",
              "  </svg>\n",
              "      </button>\n",
              "      \n",
              "  <style>\n",
              "    .colab-df-container {\n",
              "      display:flex;\n",
              "      flex-wrap:wrap;\n",
              "      gap: 12px;\n",
              "    }\n",
              "\n",
              "    .colab-df-convert {\n",
              "      background-color: #E8F0FE;\n",
              "      border: none;\n",
              "      border-radius: 50%;\n",
              "      cursor: pointer;\n",
              "      display: none;\n",
              "      fill: #1967D2;\n",
              "      height: 32px;\n",
              "      padding: 0 0 0 0;\n",
              "      width: 32px;\n",
              "    }\n",
              "\n",
              "    .colab-df-convert:hover {\n",
              "      background-color: #E2EBFA;\n",
              "      box-shadow: 0px 1px 2px rgba(60, 64, 67, 0.3), 0px 1px 3px 1px rgba(60, 64, 67, 0.15);\n",
              "      fill: #174EA6;\n",
              "    }\n",
              "\n",
              "    [theme=dark] .colab-df-convert {\n",
              "      background-color: #3B4455;\n",
              "      fill: #D2E3FC;\n",
              "    }\n",
              "\n",
              "    [theme=dark] .colab-df-convert:hover {\n",
              "      background-color: #434B5C;\n",
              "      box-shadow: 0px 1px 3px 1px rgba(0, 0, 0, 0.15);\n",
              "      filter: drop-shadow(0px 1px 2px rgba(0, 0, 0, 0.3));\n",
              "      fill: #FFFFFF;\n",
              "    }\n",
              "  </style>\n",
              "\n",
              "      <script>\n",
              "        const buttonEl =\n",
              "          document.querySelector('#df-f9a01539-4fa1-4aa4-a4ce-3abd03c162a2 button.colab-df-convert');\n",
              "        buttonEl.style.display =\n",
              "          google.colab.kernel.accessAllowed ? 'block' : 'none';\n",
              "\n",
              "        async function convertToInteractive(key) {\n",
              "          const element = document.querySelector('#df-f9a01539-4fa1-4aa4-a4ce-3abd03c162a2');\n",
              "          const dataTable =\n",
              "            await google.colab.kernel.invokeFunction('convertToInteractive',\n",
              "                                                     [key], {});\n",
              "          if (!dataTable) return;\n",
              "\n",
              "          const docLinkHtml = 'Like what you see? Visit the ' +\n",
              "            '<a target=\"_blank\" href=https://colab.research.google.com/notebooks/data_table.ipynb>data table notebook</a>'\n",
              "            + ' to learn more about interactive tables.';\n",
              "          element.innerHTML = '';\n",
              "          dataTable['output_type'] = 'display_data';\n",
              "          await google.colab.output.renderOutput(dataTable, element);\n",
              "          const docLink = document.createElement('div');\n",
              "          docLink.innerHTML = docLinkHtml;\n",
              "          element.appendChild(docLink);\n",
              "        }\n",
              "      </script>\n",
              "    </div>\n",
              "  </div>\n",
              "  "
            ]
          },
          "metadata": {},
          "execution_count": 107
        }
      ],
      "source": [
        "data.head()"
      ]
    },
    {
      "cell_type": "code",
      "execution_count": null,
      "metadata": {
        "id": "NtJv3atC9uUY"
      },
      "outputs": [],
      "source": [
        "df = data.copy()"
      ]
    },
    {
      "cell_type": "markdown",
      "metadata": {
        "id": "7fLVdiLJ-A2t"
      },
      "source": [
        "## **Création des sous-ensembles (suites au EDA)**"
      ]
    },
    {
      "cell_type": "code",
      "execution_count": null,
      "metadata": {
        "id": "sdsuzdJj9ycA"
      },
      "outputs": [],
      "source": [
        "missing_rate = df.isna().sum()/df.shape[0]"
      ]
    },
    {
      "cell_type": "code",
      "execution_count": null,
      "metadata": {
        "id": "bDyKbT0W-RXF"
      },
      "outputs": [],
      "source": [
        "blood_columns = list(df.columns[(missing_rate < 0.9) & (missing_rate >0.88)])\n",
        "viral_columns = list(df.columns[(missing_rate < 0.88) & (missing_rate >0.75)])"
      ]
    },
    {
      "cell_type": "code",
      "execution_count": null,
      "metadata": {
        "id": "irI9fQTC-WSl"
      },
      "outputs": [],
      "source": [
        "key_columns = ['Patient age quantile', 'SARS-Cov-2 exam result']"
      ]
    },
    {
      "cell_type": "code",
      "execution_count": null,
      "metadata": {
        "colab": {
          "base_uri": "https://localhost:8080/",
          "height": 322
        },
        "id": "kiYgZ6xe_Shf",
        "outputId": "8dc5037a-06ce-4434-94b5-b838b6ec12d5"
      },
      "outputs": [
        {
          "output_type": "execute_result",
          "data": {
            "text/plain": [
              "   Patient age quantile SARS-Cov-2 exam result  Hematocrit  Hemoglobin  \\\n",
              "0                    13               negative         NaN         NaN   \n",
              "1                    17               negative    0.236515    -0.02234   \n",
              "2                     8               negative         NaN         NaN   \n",
              "3                     5               negative         NaN         NaN   \n",
              "4                    15               negative         NaN         NaN   \n",
              "\n",
              "   Platelets  Mean platelet volume   Red blood Cells  Lymphocytes  \\\n",
              "0        NaN                    NaN              NaN          NaN   \n",
              "1  -0.517413               0.010677         0.102004     0.318366   \n",
              "2        NaN                    NaN              NaN          NaN   \n",
              "3        NaN                    NaN              NaN          NaN   \n",
              "4        NaN                    NaN              NaN          NaN   \n",
              "\n",
              "   Mean corpuscular hemoglobin concentration (MCHC)  Leukocytes  Basophils  \\\n",
              "0                                               NaN         NaN        NaN   \n",
              "1                                          -0.95079    -0.09461  -0.223767   \n",
              "2                                               NaN         NaN        NaN   \n",
              "3                                               NaN         NaN        NaN   \n",
              "4                                               NaN         NaN        NaN   \n",
              "\n",
              "   Mean corpuscular hemoglobin (MCH)  Eosinophils  \\\n",
              "0                                NaN          NaN   \n",
              "1                          -0.292269     1.482158   \n",
              "2                                NaN          NaN   \n",
              "3                                NaN          NaN   \n",
              "4                                NaN          NaN   \n",
              "\n",
              "   Mean corpuscular volume (MCV)  Monocytes  \\\n",
              "0                            NaN        NaN   \n",
              "1                       0.166192   0.357547   \n",
              "2                            NaN        NaN   \n",
              "3                            NaN        NaN   \n",
              "4                            NaN        NaN   \n",
              "\n",
              "   Red blood cell distribution width (RDW) Respiratory Syncytial Virus  \\\n",
              "0                                      NaN                         NaN   \n",
              "1                                -0.625073                not_detected   \n",
              "2                                      NaN                         NaN   \n",
              "3                                      NaN                         NaN   \n",
              "4                                      NaN                not_detected   \n",
              "\n",
              "    Influenza A   Influenza B Parainfluenza 1 CoronavirusNL63  \\\n",
              "0           NaN           NaN             NaN             NaN   \n",
              "1  not_detected  not_detected    not_detected    not_detected   \n",
              "2           NaN           NaN             NaN             NaN   \n",
              "3           NaN           NaN             NaN             NaN   \n",
              "4  not_detected  not_detected    not_detected    not_detected   \n",
              "\n",
              "  Rhinovirus/Enterovirus Coronavirus HKU1 Parainfluenza 3  \\\n",
              "0                    NaN              NaN             NaN   \n",
              "1               detected     not_detected    not_detected   \n",
              "2                    NaN              NaN             NaN   \n",
              "3                    NaN              NaN             NaN   \n",
              "4               detected     not_detected    not_detected   \n",
              "\n",
              "  Chlamydophila pneumoniae    Adenovirus Parainfluenza 4 Coronavirus229E  \\\n",
              "0                      NaN           NaN             NaN             NaN   \n",
              "1             not_detected  not_detected    not_detected    not_detected   \n",
              "2                      NaN           NaN             NaN             NaN   \n",
              "3                      NaN           NaN             NaN             NaN   \n",
              "4             not_detected  not_detected    not_detected    not_detected   \n",
              "\n",
              "  CoronavirusOC43 Inf A H1N1 2009 Bordetella pertussis Metapneumovirus  \\\n",
              "0             NaN             NaN                  NaN             NaN   \n",
              "1    not_detected    not_detected         not_detected    not_detected   \n",
              "2             NaN             NaN                  NaN             NaN   \n",
              "3             NaN             NaN                  NaN             NaN   \n",
              "4    not_detected    not_detected         not_detected    not_detected   \n",
              "\n",
              "  Parainfluenza 2 Influenza B, rapid test Influenza A, rapid test  \n",
              "0             NaN                     NaN                     NaN  \n",
              "1    not_detected                negative                negative  \n",
              "2             NaN                     NaN                     NaN  \n",
              "3             NaN                     NaN                     NaN  \n",
              "4    not_detected                     NaN                     NaN  "
            ],
            "text/html": [
              "\n",
              "  <div id=\"df-52420653-3e86-437a-8a4d-346346ba16d7\">\n",
              "    <div class=\"colab-df-container\">\n",
              "      <div>\n",
              "<style scoped>\n",
              "    .dataframe tbody tr th:only-of-type {\n",
              "        vertical-align: middle;\n",
              "    }\n",
              "\n",
              "    .dataframe tbody tr th {\n",
              "        vertical-align: top;\n",
              "    }\n",
              "\n",
              "    .dataframe thead th {\n",
              "        text-align: right;\n",
              "    }\n",
              "</style>\n",
              "<table border=\"1\" class=\"dataframe\">\n",
              "  <thead>\n",
              "    <tr style=\"text-align: right;\">\n",
              "      <th></th>\n",
              "      <th>Patient age quantile</th>\n",
              "      <th>SARS-Cov-2 exam result</th>\n",
              "      <th>Hematocrit</th>\n",
              "      <th>Hemoglobin</th>\n",
              "      <th>Platelets</th>\n",
              "      <th>Mean platelet volume</th>\n",
              "      <th>Red blood Cells</th>\n",
              "      <th>Lymphocytes</th>\n",
              "      <th>Mean corpuscular hemoglobin concentration (MCHC)</th>\n",
              "      <th>Leukocytes</th>\n",
              "      <th>Basophils</th>\n",
              "      <th>Mean corpuscular hemoglobin (MCH)</th>\n",
              "      <th>Eosinophils</th>\n",
              "      <th>Mean corpuscular volume (MCV)</th>\n",
              "      <th>Monocytes</th>\n",
              "      <th>Red blood cell distribution width (RDW)</th>\n",
              "      <th>Respiratory Syncytial Virus</th>\n",
              "      <th>Influenza A</th>\n",
              "      <th>Influenza B</th>\n",
              "      <th>Parainfluenza 1</th>\n",
              "      <th>CoronavirusNL63</th>\n",
              "      <th>Rhinovirus/Enterovirus</th>\n",
              "      <th>Coronavirus HKU1</th>\n",
              "      <th>Parainfluenza 3</th>\n",
              "      <th>Chlamydophila pneumoniae</th>\n",
              "      <th>Adenovirus</th>\n",
              "      <th>Parainfluenza 4</th>\n",
              "      <th>Coronavirus229E</th>\n",
              "      <th>CoronavirusOC43</th>\n",
              "      <th>Inf A H1N1 2009</th>\n",
              "      <th>Bordetella pertussis</th>\n",
              "      <th>Metapneumovirus</th>\n",
              "      <th>Parainfluenza 2</th>\n",
              "      <th>Influenza B, rapid test</th>\n",
              "      <th>Influenza A, rapid test</th>\n",
              "    </tr>\n",
              "  </thead>\n",
              "  <tbody>\n",
              "    <tr>\n",
              "      <th>0</th>\n",
              "      <td>13</td>\n",
              "      <td>negative</td>\n",
              "      <td>NaN</td>\n",
              "      <td>NaN</td>\n",
              "      <td>NaN</td>\n",
              "      <td>NaN</td>\n",
              "      <td>NaN</td>\n",
              "      <td>NaN</td>\n",
              "      <td>NaN</td>\n",
              "      <td>NaN</td>\n",
              "      <td>NaN</td>\n",
              "      <td>NaN</td>\n",
              "      <td>NaN</td>\n",
              "      <td>NaN</td>\n",
              "      <td>NaN</td>\n",
              "      <td>NaN</td>\n",
              "      <td>NaN</td>\n",
              "      <td>NaN</td>\n",
              "      <td>NaN</td>\n",
              "      <td>NaN</td>\n",
              "      <td>NaN</td>\n",
              "      <td>NaN</td>\n",
              "      <td>NaN</td>\n",
              "      <td>NaN</td>\n",
              "      <td>NaN</td>\n",
              "      <td>NaN</td>\n",
              "      <td>NaN</td>\n",
              "      <td>NaN</td>\n",
              "      <td>NaN</td>\n",
              "      <td>NaN</td>\n",
              "      <td>NaN</td>\n",
              "      <td>NaN</td>\n",
              "      <td>NaN</td>\n",
              "      <td>NaN</td>\n",
              "      <td>NaN</td>\n",
              "    </tr>\n",
              "    <tr>\n",
              "      <th>1</th>\n",
              "      <td>17</td>\n",
              "      <td>negative</td>\n",
              "      <td>0.236515</td>\n",
              "      <td>-0.02234</td>\n",
              "      <td>-0.517413</td>\n",
              "      <td>0.010677</td>\n",
              "      <td>0.102004</td>\n",
              "      <td>0.318366</td>\n",
              "      <td>-0.95079</td>\n",
              "      <td>-0.09461</td>\n",
              "      <td>-0.223767</td>\n",
              "      <td>-0.292269</td>\n",
              "      <td>1.482158</td>\n",
              "      <td>0.166192</td>\n",
              "      <td>0.357547</td>\n",
              "      <td>-0.625073</td>\n",
              "      <td>not_detected</td>\n",
              "      <td>not_detected</td>\n",
              "      <td>not_detected</td>\n",
              "      <td>not_detected</td>\n",
              "      <td>not_detected</td>\n",
              "      <td>detected</td>\n",
              "      <td>not_detected</td>\n",
              "      <td>not_detected</td>\n",
              "      <td>not_detected</td>\n",
              "      <td>not_detected</td>\n",
              "      <td>not_detected</td>\n",
              "      <td>not_detected</td>\n",
              "      <td>not_detected</td>\n",
              "      <td>not_detected</td>\n",
              "      <td>not_detected</td>\n",
              "      <td>not_detected</td>\n",
              "      <td>not_detected</td>\n",
              "      <td>negative</td>\n",
              "      <td>negative</td>\n",
              "    </tr>\n",
              "    <tr>\n",
              "      <th>2</th>\n",
              "      <td>8</td>\n",
              "      <td>negative</td>\n",
              "      <td>NaN</td>\n",
              "      <td>NaN</td>\n",
              "      <td>NaN</td>\n",
              "      <td>NaN</td>\n",
              "      <td>NaN</td>\n",
              "      <td>NaN</td>\n",
              "      <td>NaN</td>\n",
              "      <td>NaN</td>\n",
              "      <td>NaN</td>\n",
              "      <td>NaN</td>\n",
              "      <td>NaN</td>\n",
              "      <td>NaN</td>\n",
              "      <td>NaN</td>\n",
              "      <td>NaN</td>\n",
              "      <td>NaN</td>\n",
              "      <td>NaN</td>\n",
              "      <td>NaN</td>\n",
              "      <td>NaN</td>\n",
              "      <td>NaN</td>\n",
              "      <td>NaN</td>\n",
              "      <td>NaN</td>\n",
              "      <td>NaN</td>\n",
              "      <td>NaN</td>\n",
              "      <td>NaN</td>\n",
              "      <td>NaN</td>\n",
              "      <td>NaN</td>\n",
              "      <td>NaN</td>\n",
              "      <td>NaN</td>\n",
              "      <td>NaN</td>\n",
              "      <td>NaN</td>\n",
              "      <td>NaN</td>\n",
              "      <td>NaN</td>\n",
              "      <td>NaN</td>\n",
              "    </tr>\n",
              "    <tr>\n",
              "      <th>3</th>\n",
              "      <td>5</td>\n",
              "      <td>negative</td>\n",
              "      <td>NaN</td>\n",
              "      <td>NaN</td>\n",
              "      <td>NaN</td>\n",
              "      <td>NaN</td>\n",
              "      <td>NaN</td>\n",
              "      <td>NaN</td>\n",
              "      <td>NaN</td>\n",
              "      <td>NaN</td>\n",
              "      <td>NaN</td>\n",
              "      <td>NaN</td>\n",
              "      <td>NaN</td>\n",
              "      <td>NaN</td>\n",
              "      <td>NaN</td>\n",
              "      <td>NaN</td>\n",
              "      <td>NaN</td>\n",
              "      <td>NaN</td>\n",
              "      <td>NaN</td>\n",
              "      <td>NaN</td>\n",
              "      <td>NaN</td>\n",
              "      <td>NaN</td>\n",
              "      <td>NaN</td>\n",
              "      <td>NaN</td>\n",
              "      <td>NaN</td>\n",
              "      <td>NaN</td>\n",
              "      <td>NaN</td>\n",
              "      <td>NaN</td>\n",
              "      <td>NaN</td>\n",
              "      <td>NaN</td>\n",
              "      <td>NaN</td>\n",
              "      <td>NaN</td>\n",
              "      <td>NaN</td>\n",
              "      <td>NaN</td>\n",
              "      <td>NaN</td>\n",
              "    </tr>\n",
              "    <tr>\n",
              "      <th>4</th>\n",
              "      <td>15</td>\n",
              "      <td>negative</td>\n",
              "      <td>NaN</td>\n",
              "      <td>NaN</td>\n",
              "      <td>NaN</td>\n",
              "      <td>NaN</td>\n",
              "      <td>NaN</td>\n",
              "      <td>NaN</td>\n",
              "      <td>NaN</td>\n",
              "      <td>NaN</td>\n",
              "      <td>NaN</td>\n",
              "      <td>NaN</td>\n",
              "      <td>NaN</td>\n",
              "      <td>NaN</td>\n",
              "      <td>NaN</td>\n",
              "      <td>NaN</td>\n",
              "      <td>not_detected</td>\n",
              "      <td>not_detected</td>\n",
              "      <td>not_detected</td>\n",
              "      <td>not_detected</td>\n",
              "      <td>not_detected</td>\n",
              "      <td>detected</td>\n",
              "      <td>not_detected</td>\n",
              "      <td>not_detected</td>\n",
              "      <td>not_detected</td>\n",
              "      <td>not_detected</td>\n",
              "      <td>not_detected</td>\n",
              "      <td>not_detected</td>\n",
              "      <td>not_detected</td>\n",
              "      <td>not_detected</td>\n",
              "      <td>not_detected</td>\n",
              "      <td>not_detected</td>\n",
              "      <td>not_detected</td>\n",
              "      <td>NaN</td>\n",
              "      <td>NaN</td>\n",
              "    </tr>\n",
              "  </tbody>\n",
              "</table>\n",
              "</div>\n",
              "      <button class=\"colab-df-convert\" onclick=\"convertToInteractive('df-52420653-3e86-437a-8a4d-346346ba16d7')\"\n",
              "              title=\"Convert this dataframe to an interactive table.\"\n",
              "              style=\"display:none;\">\n",
              "        \n",
              "  <svg xmlns=\"http://www.w3.org/2000/svg\" height=\"24px\"viewBox=\"0 0 24 24\"\n",
              "       width=\"24px\">\n",
              "    <path d=\"M0 0h24v24H0V0z\" fill=\"none\"/>\n",
              "    <path d=\"M18.56 5.44l.94 2.06.94-2.06 2.06-.94-2.06-.94-.94-2.06-.94 2.06-2.06.94zm-11 1L8.5 8.5l.94-2.06 2.06-.94-2.06-.94L8.5 2.5l-.94 2.06-2.06.94zm10 10l.94 2.06.94-2.06 2.06-.94-2.06-.94-.94-2.06-.94 2.06-2.06.94z\"/><path d=\"M17.41 7.96l-1.37-1.37c-.4-.4-.92-.59-1.43-.59-.52 0-1.04.2-1.43.59L10.3 9.45l-7.72 7.72c-.78.78-.78 2.05 0 2.83L4 21.41c.39.39.9.59 1.41.59.51 0 1.02-.2 1.41-.59l7.78-7.78 2.81-2.81c.8-.78.8-2.07 0-2.86zM5.41 20L4 18.59l7.72-7.72 1.47 1.35L5.41 20z\"/>\n",
              "  </svg>\n",
              "      </button>\n",
              "      \n",
              "  <style>\n",
              "    .colab-df-container {\n",
              "      display:flex;\n",
              "      flex-wrap:wrap;\n",
              "      gap: 12px;\n",
              "    }\n",
              "\n",
              "    .colab-df-convert {\n",
              "      background-color: #E8F0FE;\n",
              "      border: none;\n",
              "      border-radius: 50%;\n",
              "      cursor: pointer;\n",
              "      display: none;\n",
              "      fill: #1967D2;\n",
              "      height: 32px;\n",
              "      padding: 0 0 0 0;\n",
              "      width: 32px;\n",
              "    }\n",
              "\n",
              "    .colab-df-convert:hover {\n",
              "      background-color: #E2EBFA;\n",
              "      box-shadow: 0px 1px 2px rgba(60, 64, 67, 0.3), 0px 1px 3px 1px rgba(60, 64, 67, 0.15);\n",
              "      fill: #174EA6;\n",
              "    }\n",
              "\n",
              "    [theme=dark] .colab-df-convert {\n",
              "      background-color: #3B4455;\n",
              "      fill: #D2E3FC;\n",
              "    }\n",
              "\n",
              "    [theme=dark] .colab-df-convert:hover {\n",
              "      background-color: #434B5C;\n",
              "      box-shadow: 0px 1px 3px 1px rgba(0, 0, 0, 0.15);\n",
              "      filter: drop-shadow(0px 1px 2px rgba(0, 0, 0, 0.3));\n",
              "      fill: #FFFFFF;\n",
              "    }\n",
              "  </style>\n",
              "\n",
              "      <script>\n",
              "        const buttonEl =\n",
              "          document.querySelector('#df-52420653-3e86-437a-8a4d-346346ba16d7 button.colab-df-convert');\n",
              "        buttonEl.style.display =\n",
              "          google.colab.kernel.accessAllowed ? 'block' : 'none';\n",
              "\n",
              "        async function convertToInteractive(key) {\n",
              "          const element = document.querySelector('#df-52420653-3e86-437a-8a4d-346346ba16d7');\n",
              "          const dataTable =\n",
              "            await google.colab.kernel.invokeFunction('convertToInteractive',\n",
              "                                                     [key], {});\n",
              "          if (!dataTable) return;\n",
              "\n",
              "          const docLinkHtml = 'Like what you see? Visit the ' +\n",
              "            '<a target=\"_blank\" href=https://colab.research.google.com/notebooks/data_table.ipynb>data table notebook</a>'\n",
              "            + ' to learn more about interactive tables.';\n",
              "          element.innerHTML = '';\n",
              "          dataTable['output_type'] = 'display_data';\n",
              "          await google.colab.output.renderOutput(dataTable, element);\n",
              "          const docLink = document.createElement('div');\n",
              "          docLink.innerHTML = docLinkHtml;\n",
              "          element.appendChild(docLink);\n",
              "        }\n",
              "      </script>\n",
              "    </div>\n",
              "  </div>\n",
              "  "
            ]
          },
          "metadata": {},
          "execution_count": 112
        }
      ],
      "source": [
        "df = df[key_columns + blood_columns + viral_columns]\n",
        "df.head()"
      ]
    },
    {
      "cell_type": "code",
      "execution_count": null,
      "metadata": {
        "colab": {
          "base_uri": "https://localhost:8080/"
        },
        "id": "kVhe7tvX_nWZ",
        "outputId": "52fe80b8-0ee7-4a6b-d528-1d98c6cea536"
      },
      "outputs": [
        {
          "output_type": "execute_result",
          "data": {
            "text/plain": [
              "(5644, 35)"
            ]
          },
          "metadata": {},
          "execution_count": 113
        }
      ],
      "source": [
        "df.shape"
      ]
    },
    {
      "cell_type": "markdown",
      "metadata": {
        "id": "hhKRJnv2AoLQ"
      },
      "source": [
        "## **TrainTest_Nettoyage_Encodage**"
      ]
    },
    {
      "cell_type": "code",
      "execution_count": null,
      "metadata": {
        "id": "9NsTvKiL_6eZ"
      },
      "outputs": [],
      "source": [
        "from sklearn.model_selection import train_test_split"
      ]
    },
    {
      "cell_type": "code",
      "execution_count": null,
      "metadata": {
        "id": "58kbIlPmA2oM"
      },
      "outputs": [],
      "source": [
        "trainset, testset, = train_test_split(df, test_size=0.2, random_state=0)"
      ]
    },
    {
      "cell_type": "code",
      "execution_count": null,
      "metadata": {
        "colab": {
          "base_uri": "https://localhost:8080/"
        },
        "id": "BVz_DiMBBP4o",
        "outputId": "66da179d-8d09-4891-a500-c7edae901394"
      },
      "outputs": [
        {
          "output_type": "execute_result",
          "data": {
            "text/plain": [
              "negative    4068\n",
              "positive     447\n",
              "Name: SARS-Cov-2 exam result, dtype: int64"
            ]
          },
          "metadata": {},
          "execution_count": 116
        }
      ],
      "source": [
        "trainset['SARS-Cov-2 exam result'].value_counts()"
      ]
    },
    {
      "cell_type": "code",
      "execution_count": null,
      "metadata": {
        "colab": {
          "base_uri": "https://localhost:8080/"
        },
        "id": "KVych-leBhOv",
        "outputId": "a6431ed3-6e90-4832-8623-0420652b6e21"
      },
      "outputs": [
        {
          "output_type": "execute_result",
          "data": {
            "text/plain": [
              "negative    1018\n",
              "positive     111\n",
              "Name: SARS-Cov-2 exam result, dtype: int64"
            ]
          },
          "metadata": {},
          "execution_count": 117
        }
      ],
      "source": [
        "testset['SARS-Cov-2 exam result'].value_counts()"
      ]
    },
    {
      "cell_type": "markdown",
      "metadata": {
        "id": "Wf0HAvkWCP6y"
      },
      "source": [
        "### **Encodage**"
      ]
    },
    {
      "cell_type": "code",
      "execution_count": null,
      "metadata": {
        "id": "BOUiEcc4Bod_"
      },
      "outputs": [],
      "source": [
        "#fonction map pour\n",
        "#apppliquer le dictionnaire ci dessus\n",
        "#à l'ensemble des colonnes du dataframe df\n",
        "def encodage(df):\n",
        "    code = {'negative':0,\n",
        "            'positive':1,\n",
        "            'not_detected':0,\n",
        "            'detected':1}\n",
        "    \n",
        "    for col in df.select_dtypes('object').columns:\n",
        "        df.loc[:,col] = df[col].map(code)\n",
        "        \n",
        "    return df"
      ]
    },
    {
      "cell_type": "code",
      "execution_count": null,
      "metadata": {
        "id": "6TKkFagJz-CS"
      },
      "outputs": [],
      "source": [
        "def feature_engineering(df):\n",
        "    df['Est malade'] = df[viral_columns].sum(axis=1) >= 1\n",
        "    df = df.drop(viral_columns, axis=1)\n",
        "    return df"
      ]
    },
    {
      "cell_type": "code",
      "execution_count": null,
      "metadata": {
        "id": "tTEAgiLeDAI2"
      },
      "outputs": [],
      "source": [
        "def imputation(df):\n",
        "    #df['is na'] = (df['Parainfluenza 3'].isna()) | (df['Leukocytes'].isna())\n",
        "    #df = df.fillna(-999)\n",
        "    return df.dropna(axis=0)"
      ]
    },
    {
      "cell_type": "code",
      "execution_count": null,
      "metadata": {
        "id": "6SJoWcDhDnls"
      },
      "outputs": [],
      "source": [
        "def preprocessing(df):\n",
        "    \n",
        "    df = encodage(df)\n",
        "    df = feature_engineering(df)\n",
        "    df = imputation(df)\n",
        "    \n",
        "    X = df.drop('SARS-Cov-2 exam result', axis=1)\n",
        "    y = df['SARS-Cov-2 exam result']\n",
        "    \n",
        "    print(y.value_counts())\n",
        "    \n",
        "    return X, y"
      ]
    },
    {
      "cell_type": "code",
      "execution_count": null,
      "metadata": {
        "colab": {
          "base_uri": "https://localhost:8080/"
        },
        "id": "7OZFaIY5Ekrt",
        "outputId": "0fc35109-7b9f-4562-84b9-eb9b90b3ce52"
      },
      "outputs": [
        {
          "output_type": "stream",
          "name": "stdout",
          "text": [
            "0    422\n",
            "1     65\n",
            "Name: SARS-Cov-2 exam result, dtype: int64\n"
          ]
        }
      ],
      "source": [
        "X_train, y_train = preprocessing(trainset)"
      ]
    },
    {
      "cell_type": "code",
      "execution_count": null,
      "metadata": {
        "colab": {
          "base_uri": "https://localhost:8080/"
        },
        "id": "tITEJiQ0ErEy",
        "outputId": "573d2e69-5d64-4e30-8229-cea702367fa2"
      },
      "outputs": [
        {
          "output_type": "stream",
          "name": "stdout",
          "text": [
            "0    95\n",
            "1    16\n",
            "Name: SARS-Cov-2 exam result, dtype: int64\n"
          ]
        }
      ],
      "source": [
        "X_test, y_test = preprocessing(testset)"
      ]
    },
    {
      "cell_type": "markdown",
      "metadata": {
        "id": "Of-qaNPZ0ay4"
      },
      "source": [
        "### **Modelisation**"
      ]
    },
    {
      "cell_type": "code",
      "execution_count": null,
      "metadata": {
        "id": "ZriwFBbayvky"
      },
      "outputs": [],
      "source": [
        "from sklearn.tree import DecisionTreeClassifier\n",
        "from sklearn.ensemble import RandomForestClassifier\n",
        "from sklearn.pipeline import make_pipeline\n",
        "from sklearn.feature_selection import SelectKBest, f_classif\n",
        "from sklearn.preprocessing import PolynomialFeatures\n",
        "from sklearn.decomposition import PCA"
      ]
    },
    {
      "cell_type": "code",
      "execution_count": null,
      "metadata": {
        "id": "sBIfqNCn0Ux3"
      },
      "outputs": [],
      "source": [
        "model_1 = RandomForestClassifier(random_state=0)"
      ]
    },
    {
      "cell_type": "code",
      "execution_count": null,
      "metadata": {
        "id": "P1o4wqX60W-w"
      },
      "outputs": [],
      "source": [
        "model_2 = make_pipeline(PolynomialFeatures(2), SelectKBest(f_classif, k=10),\n",
        "                      RandomForestClassifier(random_state=0))"
      ]
    },
    {
      "cell_type": "markdown",
      "metadata": {
        "id": "YunY29NC40Ww"
      },
      "source": [
        "### **Procédure d'évaluation**"
      ]
    },
    {
      "cell_type": "code",
      "execution_count": null,
      "metadata": {
        "id": "M2-8zM3k0ZqG"
      },
      "outputs": [],
      "source": [
        "from sklearn.metrics import f1_score, confusion_matrix, classification_report\n",
        "from sklearn.model_selection import learning_curve"
      ]
    },
    {
      "cell_type": "code",
      "execution_count": null,
      "metadata": {
        "id": "ncXi0eWJ4-Ha"
      },
      "outputs": [],
      "source": [
        "def evaluation(model):\n",
        "    \n",
        "    model.fit(X_train, y_train)\n",
        "    ypred = model.predict(X_test)\n",
        "    \n",
        "    print(confusion_matrix(y_test, ypred))\n",
        "    print(classification_report(y_test, ypred))\n",
        "    \n",
        "    N, train_score, val_score = learning_curve(model, X_train, y_train,\n",
        "                                              cv=4, scoring='f1',\n",
        "                                               train_sizes=np.linspace(0.1, 1, 10))\n",
        "    \n",
        "    \n",
        "    plt.figure(figsize=(12, 8))\n",
        "    plt.plot(N, train_score.mean(axis=1), label='train score')\n",
        "    plt.plot(N, val_score.mean(axis=1), label='validation score')\n",
        "    plt.legend()"
      ]
    },
    {
      "cell_type": "code",
      "execution_count": null,
      "metadata": {
        "colab": {
          "base_uri": "https://localhost:8080/",
          "height": 640
        },
        "id": "JQXlF2Kj5BSa",
        "outputId": "5b02ab59-4404-4058-ca4b-ef47f2bcd915"
      },
      "outputs": [
        {
          "output_type": "stream",
          "name": "stdout",
          "text": [
            "[[92  3]\n",
            " [12  4]]\n",
            "              precision    recall  f1-score   support\n",
            "\n",
            "           0       0.88      0.97      0.92        95\n",
            "           1       0.57      0.25      0.35        16\n",
            "\n",
            "    accuracy                           0.86       111\n",
            "   macro avg       0.73      0.61      0.64       111\n",
            "weighted avg       0.84      0.86      0.84       111\n",
            "\n"
          ]
        },
        {
          "output_type": "display_data",
          "data": {
            "text/plain": [
              "<Figure size 864x576 with 1 Axes>"
            ],
            "image/png": "[encoded data removed]"
          },
          "metadata": {
            "needs_background": "light"
          }
        }
      ],
      "source": [
        "evaluation(model_1)"
      ]
    },
    {
      "cell_type": "code",
      "execution_count": null,
      "metadata": {
        "colab": {
          "base_uri": "https://localhost:8080/",
          "height": 689
        },
        "id": "nONOtfGG5Dz6",
        "outputId": "6a40ab8c-6fbe-4089-9f2b-b1924ab20cf9"
      },
      "outputs": [
        {
          "output_type": "execute_result",
          "data": {
            "text/plain": [
              "<AxesSubplot:>"
            ]
          },
          "metadata": {},
          "execution_count": 130
        },
        {
          "output_type": "display_data",
          "data": {
            "text/plain": [
              "<Figure size 864x576 with 1 Axes>"
            ],
            "image/png": "[encoded data removed]"
          },
          "metadata": {
            "needs_background": "light"
          }
        }
      ],
      "source": [
        "pd.DataFrame(model_1.feature_importances_, index=X_train.columns).plot.bar(figsize=(12, 8))"
      ]
    },
    {
      "cell_type": "markdown",
      "metadata": {
        "id": "TDy2eOJC0X1-"
      },
      "source": [
        "# **MODELISATION**"
      ]
    },
    {
      "cell_type": "code",
      "execution_count": null,
      "metadata": {
        "id": "_tvsYMBt0bdL"
      },
      "outputs": [],
      "source": [
        "from sklearn.tree import DecisionTreeClassifier\n",
        "from sklearn.ensemble import RandomForestClassifier, AdaBoostClassifier\n",
        "from sklearn.svm import SVC\n",
        "from sklearn.neighbors import KNeighborsClassifier\n",
        "from sklearn.pipeline import make_pipeline\n",
        "from sklearn.feature_selection import SelectKBest, f_classif\n",
        "from sklearn.preprocessing import PolynomialFeatures, StandardScaler"
      ]
    },
    {
      "cell_type": "code",
      "execution_count": null,
      "metadata": {
        "id": "bwC0a1qp08YN"
      },
      "outputs": [],
      "source": [
        "preprocessor = make_pipeline(PolynomialFeatures(2, include_bias=False), SelectKBest(f_classif, k=10))"
      ]
    },
    {
      "cell_type": "code",
      "execution_count": null,
      "metadata": {
        "id": "4OW_Y5Lq0-It"
      },
      "outputs": [],
      "source": [
        "RandomForest = make_pipeline(preprocessor, RandomForestClassifier(random_state=0))\n",
        "AdaBoost = make_pipeline(preprocessor, AdaBoostClassifier(random_state=0))\n",
        "SVM = make_pipeline(preprocessor, StandardScaler(), SVC(random_state=0))\n",
        "KNN = make_pipeline(preprocessor, StandardScaler(), KNeighborsClassifier())"
      ]
    },
    {
      "cell_type": "code",
      "execution_count": null,
      "metadata": {
        "id": "2HAdNfiY1XZM"
      },
      "outputs": [],
      "source": [
        "dict_of_models = {'RandomForest': RandomForest,\n",
        "                  'AdaBoost' : AdaBoost,\n",
        "                  'SVM': SVM,\n",
        "                  'KNN': KNN\n",
        "                 }"
      ]
    },
    {
      "cell_type": "code",
      "execution_count": null,
      "metadata": {
        "colab": {
          "base_uri": "https://localhost:8080/",
          "height": 1000
        },
        "id": "ZtPoWn4i0_8M",
        "outputId": "5237f1c6-0106-411c-9bf1-32354cae79d1"
      },
      "outputs": [
        {
          "output_type": "stream",
          "name": "stdout",
          "text": [
            "RandomForest\n",
            "[[91  4]\n",
            " [10  6]]\n",
            "              precision    recall  f1-score   support\n",
            "\n",
            "           0       0.90      0.96      0.93        95\n",
            "           1       0.60      0.38      0.46        16\n",
            "\n",
            "    accuracy                           0.87       111\n",
            "   macro avg       0.75      0.67      0.70       111\n",
            "weighted avg       0.86      0.87      0.86       111\n",
            "\n",
            "AdaBoost\n",
            "[[90  5]\n",
            " [10  6]]\n",
            "              precision    recall  f1-score   support\n",
            "\n",
            "           0       0.90      0.95      0.92        95\n",
            "           1       0.55      0.38      0.44        16\n",
            "\n",
            "    accuracy                           0.86       111\n",
            "   macro avg       0.72      0.66      0.68       111\n",
            "weighted avg       0.85      0.86      0.85       111\n",
            "\n",
            "SVM\n",
            "[[91  4]\n",
            " [ 9  7]]\n",
            "              precision    recall  f1-score   support\n",
            "\n",
            "           0       0.91      0.96      0.93        95\n",
            "           1       0.64      0.44      0.52        16\n",
            "\n",
            "    accuracy                           0.88       111\n",
            "   macro avg       0.77      0.70      0.73       111\n",
            "weighted avg       0.87      0.88      0.87       111\n",
            "\n",
            "KNN\n",
            "[[88  7]\n",
            " [ 8  8]]\n",
            "              precision    recall  f1-score   support\n",
            "\n",
            "           0       0.92      0.93      0.92        95\n",
            "           1       0.53      0.50      0.52        16\n",
            "\n",
            "    accuracy                           0.86       111\n",
            "   macro avg       0.72      0.71      0.72       111\n",
            "weighted avg       0.86      0.86      0.86       111\n",
            "\n"
          ]
        },
        {
          "output_type": "display_data",
          "data": {
            "text/plain": [
              "<Figure size 864x576 with 1 Axes>"
            ],
            "image/png": "[encoded data removed]"
          },
          "metadata": {
            "needs_background": "light"
          }
        },
        {
          "output_type": "display_data",
          "data": {
            "text/plain": [
              "<Figure size 864x576 with 1 Axes>"
            ],
            "image/png": "[encoded data removed]"
          },
          "metadata": {
            "needs_background": "light"
          }
        },
        {
          "output_type": "display_data",
          "data": {
            "text/plain": [
              "<Figure size 864x576 with 1 Axes>"
            ],
            "image/png": "[encoded data removed]"
          },
          "metadata": {
            "needs_background": "light"
          }
        },
        {
          "output_type": "display_data",
          "data": {
            "text/plain": [
              "<Figure size 864x576 with 1 Axes>"
            ],
            "image/png": "[encoded data removed]"
          },
          "metadata": {
            "needs_background": "light"
          }
        }
      ],
      "source": [
        "for name, model in dict_of_models.items():\n",
        "    print(name)\n",
        "    evaluation(model)"
      ]
    },
    {
      "cell_type": "markdown",
      "source": [
        "## **Optimisation**"
      ],
      "metadata": {
        "id": "suoey93UgsMz"
      }
    },
    {
      "cell_type": "code",
      "source": [
        "#pour des recherches dans un domaine très grand\n",
        "#on utilisera RandomizedSearchCV\n",
        "from sklearn.model_selection import GridSearchCV, RandomizedSearchCV"
      ],
      "metadata": {
        "id": "QlGVJB3fgxUR"
      },
      "execution_count": null,
      "outputs": []
    },
    {
      "cell_type": "code",
      "source": [
        " SVM"
      ],
      "metadata": {
        "colab": {
          "base_uri": "https://localhost:8080/",
          "height": 221
        },
        "id": "Tx5-pgjIg0MY",
        "outputId": "0fb5ebfa-eb68-4832-ad77-8cadf981a8e8"
      },
      "execution_count": null,
      "outputs": [
        {
          "output_type": "execute_result",
          "data": {
            "text/plain": [
              "Pipeline(steps=[('pipeline',\n",
              "                 Pipeline(steps=[('polynomialfeatures',\n",
              "                                  PolynomialFeatures(include_bias=False)),\n",
              "                                 ('selectkbest', SelectKBest())])),\n",
              "                ('standardscaler', StandardScaler()),\n",
              "                ('svc', SVC(random_state=0))])"
            ],
            "text/html": [
              "<style>#sk-container-id-4 {color: black;background-color: white;}#sk-container-id-4 pre{padding: 0;}#sk-container-id-4 div.sk-toggleable {background-color: white;}#sk-container-id-4 label.sk-toggleable__label {cursor: pointer;display: block;width: 100%;margin-bottom: 0;padding: 0.3em;box-sizing: border-box;text-align: center;}#sk-container-id-4 label.sk-toggleable__label-arrow:before {content: \"▸\";float: left;margin-right: 0.25em;color: #696969;}#sk-container-id-4 label.sk-toggleable__label-arrow:hover:before {color: black;}#sk-container-id-4 div.sk-estimator:hover label.sk-toggleable__label-arrow:before {color: black;}#sk-container-id-4 div.sk-toggleable__content {max-height: 0;max-width: 0;overflow: hidden;text-align: left;background-color: #f0f8ff;}#sk-container-id-4 div.sk-toggleable__content pre {margin: 0.2em;color: black;border-radius: 0.25em;background-color: #f0f8ff;}#sk-container-id-4 input.sk-toggleable__control:checked~div.sk-toggleable__content {max-height: 200px;max-width: 100%;overflow: auto;}#sk-container-id-4 input.sk-toggleable__control:checked~label.sk-toggleable__label-arrow:before {content: \"▾\";}#sk-container-id-4 div.sk-estimator input.sk-toggleable__control:checked~label.sk-toggleable__label {background-color: #d4ebff;}#sk-container-id-4 div.sk-label input.sk-toggleable__control:checked~label.sk-toggleable__label {background-color: #d4ebff;}#sk-container-id-4 input.sk-hidden--visually {border: 0;clip: rect(1px 1px 1px 1px);clip: rect(1px, 1px, 1px, 1px);height: 1px;margin: -1px;overflow: hidden;padding: 0;position: absolute;width: 1px;}#sk-container-id-4 div.sk-estimator {font-family: monospace;background-color: #f0f8ff;border: 1px dotted black;border-radius: 0.25em;box-sizing: border-box;margin-bottom: 0.5em;}#sk-container-id-4 div.sk-estimator:hover {background-color: #d4ebff;}#sk-container-id-4 div.sk-parallel-item::after {content: \"\";width: 100%;border-bottom: 1px solid gray;flex-grow: 1;}#sk-container-id-4 div.sk-label:hover label.sk-toggleable__label {background-color: #d4ebff;}#sk-container-id-4 div.sk-serial::before {content: \"\";position: absolute;border-left: 1px solid gray;box-sizing: border-box;top: 0;bottom: 0;left: 50%;z-index: 0;}#sk-container-id-4 div.sk-serial {display: flex;flex-direction: column;align-items: center;background-color: white;padding-right: 0.2em;padding-left: 0.2em;position: relative;}#sk-container-id-4 div.sk-item {position: relative;z-index: 1;}#sk-container-id-4 div.sk-parallel {display: flex;align-items: stretch;justify-content: center;background-color: white;position: relative;}#sk-container-id-4 div.sk-item::before, #sk-container-id-4 div.sk-parallel-item::before {content: \"\";position: absolute;border-left: 1px solid gray;box-sizing: border-box;top: 0;bottom: 0;left: 50%;z-index: -1;}#sk-container-id-4 div.sk-parallel-item {display: flex;flex-direction: column;z-index: 1;position: relative;background-color: white;}#sk-container-id-4 div.sk-parallel-item:first-child::after {align-self: flex-end;width: 50%;}#sk-container-id-4 div.sk-parallel-item:last-child::after {align-self: flex-start;width: 50%;}#sk-container-id-4 div.sk-parallel-item:only-child::after {width: 0;}#sk-container-id-4 div.sk-dashed-wrapped {border: 1px dashed gray;margin: 0 0.4em 0.5em 0.4em;box-sizing: border-box;padding-bottom: 0.4em;background-color: white;}#sk-container-id-4 div.sk-label label {font-family: monospace;font-weight: bold;display: inline-block;line-height: 1.2em;}#sk-container-id-4 div.sk-label-container {text-align: center;}#sk-container-id-4 div.sk-container {/* jupyter's `normalize.less` sets `[hidden] { display: none; }` but bootstrap.min.css set `[hidden] { display: none !important; }` so we also need the `!important` here to be able to override the default hidden behavior on the sphinx rendered scikit-learn.org. See: https://github.com/scikit-learn/scikit-learn/issues/21755 */display: inline-block !important;position: relative;}#sk-container-id-4 div.sk-text-repr-fallback {display: none;}</style><div id=\"sk-container-id-4\" class=\"sk-top-container\"><div class=\"sk-text-repr-fallback\"><pre>Pipeline(steps=[(&#x27;pipeline&#x27;,\n",
              "                 Pipeline(steps=[(&#x27;polynomialfeatures&#x27;,\n",
              "                                  PolynomialFeatures(include_bias=False)),\n",
              "                                 (&#x27;selectkbest&#x27;, SelectKBest())])),\n",
              "                (&#x27;standardscaler&#x27;, StandardScaler()),\n",
              "                (&#x27;svc&#x27;, SVC(random_state=0))])</pre><b>In a Jupyter environment, please rerun this cell to show the HTML representation or trust the notebook. <br />On GitHub, the HTML representation is unable to render, please try loading this page with nbviewer.org.</b></div><div class=\"sk-container\" hidden><div class=\"sk-item sk-dashed-wrapped\"><div class=\"sk-label-container\"><div class=\"sk-label sk-toggleable\"><input class=\"sk-toggleable__control sk-hidden--visually\" id=\"sk-estimator-id-19\" type=\"checkbox\" ><label for=\"sk-estimator-id-19\" class=\"sk-toggleable__label sk-toggleable__label-arrow\">Pipeline</label><div class=\"sk-toggleable__content\"><pre>Pipeline(steps=[(&#x27;pipeline&#x27;,\n",
              "                 Pipeline(steps=[(&#x27;polynomialfeatures&#x27;,\n",
              "                                  PolynomialFeatures(include_bias=False)),\n",
              "                                 (&#x27;selectkbest&#x27;, SelectKBest())])),\n",
              "                (&#x27;standardscaler&#x27;, StandardScaler()),\n",
              "                (&#x27;svc&#x27;, SVC(random_state=0))])</pre></div></div></div><div class=\"sk-serial\"><div class=\"sk-item\"><div class=\"sk-label-container\"><div class=\"sk-label sk-toggleable\"><input class=\"sk-toggleable__control sk-hidden--visually\" id=\"sk-estimator-id-20\" type=\"checkbox\" ><label for=\"sk-estimator-id-20\" class=\"sk-toggleable__label sk-toggleable__label-arrow\">pipeline: Pipeline</label><div class=\"sk-toggleable__content\"><pre>Pipeline(steps=[(&#x27;polynomialfeatures&#x27;, PolynomialFeatures(include_bias=False)),\n",
              "                (&#x27;selectkbest&#x27;, SelectKBest())])</pre></div></div></div><div class=\"sk-serial\"><div class=\"sk-item\"><div class=\"sk-estimator sk-toggleable\"><input class=\"sk-toggleable__control sk-hidden--visually\" id=\"sk-estimator-id-21\" type=\"checkbox\" ><label for=\"sk-estimator-id-21\" class=\"sk-toggleable__label sk-toggleable__label-arrow\">PolynomialFeatures</label><div class=\"sk-toggleable__content\"><pre>PolynomialFeatures(include_bias=False)</pre></div></div></div><div class=\"sk-item\"><div class=\"sk-estimator sk-toggleable\"><input class=\"sk-toggleable__control sk-hidden--visually\" id=\"sk-estimator-id-22\" type=\"checkbox\" ><label for=\"sk-estimator-id-22\" class=\"sk-toggleable__label sk-toggleable__label-arrow\">SelectKBest</label><div class=\"sk-toggleable__content\"><pre>SelectKBest()</pre></div></div></div></div></div><div class=\"sk-item\"><div class=\"sk-estimator sk-toggleable\"><input class=\"sk-toggleable__control sk-hidden--visually\" id=\"sk-estimator-id-23\" type=\"checkbox\" ><label for=\"sk-estimator-id-23\" class=\"sk-toggleable__label sk-toggleable__label-arrow\">StandardScaler</label><div class=\"sk-toggleable__content\"><pre>StandardScaler()</pre></div></div></div><div class=\"sk-item\"><div class=\"sk-estimator sk-toggleable\"><input class=\"sk-toggleable__control sk-hidden--visually\" id=\"sk-estimator-id-24\" type=\"checkbox\" ><label for=\"sk-estimator-id-24\" class=\"sk-toggleable__label sk-toggleable__label-arrow\">SVC</label><div class=\"sk-toggleable__content\"><pre>SVC(random_state=0)</pre></div></div></div></div></div></div></div>"
            ]
          },
          "metadata": {},
          "execution_count": 139
        }
      ]
    },
    {
      "cell_type": "code",
      "source": [
        "hyper_params = {'svc__gamma':[1e-3, 1e-4, 0.0005],\n",
        "                'svc__C':[1, 10, 100, 1000, 3000], \n",
        "               'pipeline__polynomialfeatures__degree':[2, 3],\n",
        "               'pipeline__selectkbest__k': range(45, 60)}"
      ],
      "metadata": {
        "id": "kkMv56WGg2CI"
      },
      "execution_count": null,
      "outputs": []
    },
    {
      "cell_type": "code",
      "source": [
        "grid = RandomizedSearchCV(SVM, hyper_params, scoring='recall', cv=4,\n",
        "                          n_iter=40)\n",
        "\n",
        "grid.fit(X_train, y_train)\n",
        "\n",
        "print(grid.best_params_)\n",
        "\n",
        "y_pred = grid.predict(X_test)\n",
        "\n",
        "print(classification_report(y_test, y_pred))"
      ],
      "metadata": {
        "colab": {
          "base_uri": "https://localhost:8080/"
        },
        "id": "RxFaFI4Ug4ka",
        "outputId": "3d3af2d6-677d-4a8f-9796-538f47013a95"
      },
      "execution_count": null,
      "outputs": [
        {
          "output_type": "stream",
          "name": "stdout",
          "text": [
            "{'svc__gamma': 0.001, 'svc__C': 1000, 'pipeline__selectkbest__k': 51, 'pipeline__polynomialfeatures__degree': 3}\n",
            "              precision    recall  f1-score   support\n",
            "\n",
            "           0       0.94      0.95      0.94        95\n",
            "           1       0.67      0.62      0.65        16\n",
            "\n",
            "    accuracy                           0.90       111\n",
            "   macro avg       0.80      0.79      0.79       111\n",
            "weighted avg       0.90      0.90      0.90       111\n",
            "\n"
          ]
        }
      ]
    },
    {
      "cell_type": "code",
      "source": [
        "evaluation(grid.best_estimator_)"
      ],
      "metadata": {
        "colab": {
          "base_uri": "https://localhost:8080/",
          "height": 694
        },
        "id": "85fTtIS3g7Nn",
        "outputId": "87305ad7-3a0f-4f63-a320-e8e8c37e1651"
      },
      "execution_count": null,
      "outputs": [
        {
          "output_type": "stream",
          "name": "stdout",
          "text": [
            "[[90  5]\n",
            " [ 6 10]]\n",
            "              precision    recall  f1-score   support\n",
            "\n",
            "           0       0.94      0.95      0.94        95\n",
            "           1       0.67      0.62      0.65        16\n",
            "\n",
            "    accuracy                           0.90       111\n",
            "   macro avg       0.80      0.79      0.79       111\n",
            "weighted avg       0.90      0.90      0.90       111\n",
            "\n"
          ]
        },
        {
          "output_type": "display_data",
          "data": {
            "text/plain": [
              "<Figure size 864x576 with 1 Axes>"
            ],
            "image/png": "[encoded data removed]"
          },
          "metadata": {
            "needs_background": "light"
          }
        }
      ]
    },
    {
      "cell_type": "markdown",
      "source": [
        "## **Precision Recall Curve**\n",
        "Permet de visualiser la futur précision ( ou sensibilité) de notre modèle en fonction d'un seuil de précision que l'on va définir."
      ],
      "metadata": {
        "id": "3ajezLxgjP8t"
      }
    },
    {
      "cell_type": "code",
      "source": [
        "from sklearn.metrics import precision_recall_curve"
      ],
      "metadata": {
        "id": "x1HJV0qzg-Ia"
      },
      "execution_count": null,
      "outputs": []
    },
    {
      "cell_type": "code",
      "source": [
        "precision, recall, threshold = precision_recall_curve(y_test, grid.best_estimator_.decision_function(X_test))"
      ],
      "metadata": {
        "id": "ucBoQUKNj5GJ"
      },
      "execution_count": null,
      "outputs": []
    },
    {
      "cell_type": "code",
      "source": [
        "plt.plot(threshold, precision[:-1], label='precision')\n",
        "plt.plot(threshold, recall[:-1], label='recall')\n",
        "plt.legend()"
      ],
      "metadata": {
        "colab": {
          "base_uri": "https://localhost:8080/",
          "height": 282
        },
        "id": "cGzyoPDzk09w",
        "outputId": "2f9453cd-f69f-4262-cc86-94f342098834"
      },
      "execution_count": null,
      "outputs": [
        {
          "output_type": "execute_result",
          "data": {
            "text/plain": [
              "<matplotlib.legend.Legend at 0x7f192a071640>"
            ]
          },
          "metadata": {},
          "execution_count": 149
        },
        {
          "output_type": "display_data",
          "data": {
            "text/plain": [
              "<Figure size 432x288 with 1 Axes>"
            ],
            "image/png": "[encoded data removed]"
          },
          "metadata": {
            "needs_background": "light"
          }
        }
      ]
    },
    {
      "cell_type": "code",
      "source": [
        "def model_final(model, X, threshold=0):\n",
        "    return model.decision_function(X) > threshold"
      ],
      "metadata": {
        "id": "ph-kLU_jlTFy"
      },
      "execution_count": null,
      "outputs": []
    },
    {
      "cell_type": "code",
      "source": [
        "y_pred = model_final(grid.best_estimator_, X_test, threshold=-1)"
      ],
      "metadata": {
        "id": "I5NSGhTlmLwz"
      },
      "execution_count": null,
      "outputs": []
    },
    {
      "cell_type": "code",
      "source": [
        "from sklearn.metrics import recall_score"
      ],
      "metadata": {
        "id": "zSy-fRN_ndcr"
      },
      "execution_count": null,
      "outputs": []
    },
    {
      "cell_type": "code",
      "source": [
        "recall_score(y_test, y_pred)"
      ],
      "metadata": {
        "colab": {
          "base_uri": "https://localhost:8080/"
        },
        "id": "7y0ks2K1nrTh",
        "outputId": "e6301639-2746-4f8c-af12-af5d565ca586"
      },
      "execution_count": null,
      "outputs": [
        {
          "output_type": "execute_result",
          "data": {
            "text/plain": [
              "0.6875"
            ]
          },
          "metadata": {},
          "execution_count": 157
        }
      ]
    },
    {
      "cell_type": "code",
      "source": [
        "f1_score(y_test, y_pred)"
      ],
      "metadata": {
        "colab": {
          "base_uri": "https://localhost:8080/"
        },
        "id": "XrFBfQgXmWtO",
        "outputId": "2b908a54-b93e-4a13-cac5-0a6e37043597"
      },
      "execution_count": null,
      "outputs": [
        {
          "output_type": "execute_result",
          "data": {
            "text/plain": [
              "0.5238095238095238"
            ]
          },
          "metadata": {},
          "execution_count": 155
        }
      ]
    }
  ]
}